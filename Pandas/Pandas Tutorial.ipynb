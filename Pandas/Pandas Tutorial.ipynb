{
 "cells": [
  {
   "cell_type": "code",
   "execution_count": 1,
   "metadata": {},
   "outputs": [],
   "source": [
    "import numpy as np\n",
    "import pandas as pd"
   ]
  },
  {
   "cell_type": "code",
   "execution_count": 2,
   "metadata": {},
   "outputs": [],
   "source": [
    "dict1 = {\n",
    "    \"name\":['harry', 'rohan', 'skillf', 'shubh'],\n",
    "    \"marks\":[92, 34, 24, 17],\n",
    "    \"city\":['rampur', 'kolkata', 'bareilly', 'antarctica']\n",
    "}"
   ]
  },
  {
   "cell_type": "code",
   "execution_count": 3,
   "metadata": {},
   "outputs": [],
   "source": [
    "df = pd.DataFrame(dict1) #It converts this into Exell sheet document"
   ]
  },
  {
   "cell_type": "code",
   "execution_count": 4,
   "metadata": {
    "scrolled": true
   },
   "outputs": [
    {
     "data": {
      "text/html": [
       "<div>\n",
       "<style scoped>\n",
       "    .dataframe tbody tr th:only-of-type {\n",
       "        vertical-align: middle;\n",
       "    }\n",
       "\n",
       "    .dataframe tbody tr th {\n",
       "        vertical-align: top;\n",
       "    }\n",
       "\n",
       "    .dataframe thead th {\n",
       "        text-align: right;\n",
       "    }\n",
       "</style>\n",
       "<table border=\"1\" class=\"dataframe\">\n",
       "  <thead>\n",
       "    <tr style=\"text-align: right;\">\n",
       "      <th></th>\n",
       "      <th>name</th>\n",
       "      <th>marks</th>\n",
       "      <th>city</th>\n",
       "    </tr>\n",
       "  </thead>\n",
       "  <tbody>\n",
       "    <tr>\n",
       "      <th>0</th>\n",
       "      <td>harry</td>\n",
       "      <td>92</td>\n",
       "      <td>rampur</td>\n",
       "    </tr>\n",
       "    <tr>\n",
       "      <th>1</th>\n",
       "      <td>rohan</td>\n",
       "      <td>34</td>\n",
       "      <td>kolkata</td>\n",
       "    </tr>\n",
       "    <tr>\n",
       "      <th>2</th>\n",
       "      <td>skillf</td>\n",
       "      <td>24</td>\n",
       "      <td>bareilly</td>\n",
       "    </tr>\n",
       "    <tr>\n",
       "      <th>3</th>\n",
       "      <td>shubh</td>\n",
       "      <td>17</td>\n",
       "      <td>antarctica</td>\n",
       "    </tr>\n",
       "  </tbody>\n",
       "</table>\n",
       "</div>"
      ],
      "text/plain": [
       "     name  marks        city\n",
       "0   harry     92      rampur\n",
       "1   rohan     34     kolkata\n",
       "2  skillf     24    bareilly\n",
       "3   shubh     17  antarctica"
      ]
     },
     "execution_count": 4,
     "metadata": {},
     "output_type": "execute_result"
    }
   ],
   "source": [
    "df"
   ]
  },
  {
   "cell_type": "code",
   "execution_count": 5,
   "metadata": {},
   "outputs": [],
   "source": [
    "df.to_csv('friends1.csv')"
   ]
  },
  {
   "cell_type": "code",
   "execution_count": 6,
   "metadata": {},
   "outputs": [],
   "source": [
    "df.to_csv('friends_index_false.csv')"
   ]
  },
  {
   "cell_type": "code",
   "execution_count": 7,
   "metadata": {},
   "outputs": [
    {
     "data": {
      "text/html": [
       "<div>\n",
       "<style scoped>\n",
       "    .dataframe tbody tr th:only-of-type {\n",
       "        vertical-align: middle;\n",
       "    }\n",
       "\n",
       "    .dataframe tbody tr th {\n",
       "        vertical-align: top;\n",
       "    }\n",
       "\n",
       "    .dataframe thead th {\n",
       "        text-align: right;\n",
       "    }\n",
       "</style>\n",
       "<table border=\"1\" class=\"dataframe\">\n",
       "  <thead>\n",
       "    <tr style=\"text-align: right;\">\n",
       "      <th></th>\n",
       "      <th>name</th>\n",
       "      <th>marks</th>\n",
       "      <th>city</th>\n",
       "    </tr>\n",
       "  </thead>\n",
       "  <tbody>\n",
       "    <tr>\n",
       "      <th>0</th>\n",
       "      <td>harry</td>\n",
       "      <td>92</td>\n",
       "      <td>rampur</td>\n",
       "    </tr>\n",
       "    <tr>\n",
       "      <th>1</th>\n",
       "      <td>rohan</td>\n",
       "      <td>34</td>\n",
       "      <td>kolkata</td>\n",
       "    </tr>\n",
       "  </tbody>\n",
       "</table>\n",
       "</div>"
      ],
      "text/plain": [
       "    name  marks     city\n",
       "0  harry     92   rampur\n",
       "1  rohan     34  kolkata"
      ]
     },
     "execution_count": 7,
     "metadata": {},
     "output_type": "execute_result"
    }
   ],
   "source": [
    "df.head(2)"
   ]
  },
  {
   "cell_type": "code",
   "execution_count": 8,
   "metadata": {},
   "outputs": [
    {
     "data": {
      "text/html": [
       "<div>\n",
       "<style scoped>\n",
       "    .dataframe tbody tr th:only-of-type {\n",
       "        vertical-align: middle;\n",
       "    }\n",
       "\n",
       "    .dataframe tbody tr th {\n",
       "        vertical-align: top;\n",
       "    }\n",
       "\n",
       "    .dataframe thead th {\n",
       "        text-align: right;\n",
       "    }\n",
       "</style>\n",
       "<table border=\"1\" class=\"dataframe\">\n",
       "  <thead>\n",
       "    <tr style=\"text-align: right;\">\n",
       "      <th></th>\n",
       "      <th>name</th>\n",
       "      <th>marks</th>\n",
       "      <th>city</th>\n",
       "    </tr>\n",
       "  </thead>\n",
       "  <tbody>\n",
       "    <tr>\n",
       "      <th>2</th>\n",
       "      <td>skillf</td>\n",
       "      <td>24</td>\n",
       "      <td>bareilly</td>\n",
       "    </tr>\n",
       "    <tr>\n",
       "      <th>3</th>\n",
       "      <td>shubh</td>\n",
       "      <td>17</td>\n",
       "      <td>antarctica</td>\n",
       "    </tr>\n",
       "  </tbody>\n",
       "</table>\n",
       "</div>"
      ],
      "text/plain": [
       "     name  marks        city\n",
       "2  skillf     24    bareilly\n",
       "3   shubh     17  antarctica"
      ]
     },
     "execution_count": 8,
     "metadata": {},
     "output_type": "execute_result"
    }
   ],
   "source": [
    "df.tail(2)"
   ]
  },
  {
   "cell_type": "code",
   "execution_count": 9,
   "metadata": {},
   "outputs": [
    {
     "data": {
      "text/html": [
       "<div>\n",
       "<style scoped>\n",
       "    .dataframe tbody tr th:only-of-type {\n",
       "        vertical-align: middle;\n",
       "    }\n",
       "\n",
       "    .dataframe tbody tr th {\n",
       "        vertical-align: top;\n",
       "    }\n",
       "\n",
       "    .dataframe thead th {\n",
       "        text-align: right;\n",
       "    }\n",
       "</style>\n",
       "<table border=\"1\" class=\"dataframe\">\n",
       "  <thead>\n",
       "    <tr style=\"text-align: right;\">\n",
       "      <th></th>\n",
       "      <th>marks</th>\n",
       "    </tr>\n",
       "  </thead>\n",
       "  <tbody>\n",
       "    <tr>\n",
       "      <th>count</th>\n",
       "      <td>4.00000</td>\n",
       "    </tr>\n",
       "    <tr>\n",
       "      <th>mean</th>\n",
       "      <td>41.75000</td>\n",
       "    </tr>\n",
       "    <tr>\n",
       "      <th>std</th>\n",
       "      <td>34.21866</td>\n",
       "    </tr>\n",
       "    <tr>\n",
       "      <th>min</th>\n",
       "      <td>17.00000</td>\n",
       "    </tr>\n",
       "    <tr>\n",
       "      <th>25%</th>\n",
       "      <td>22.25000</td>\n",
       "    </tr>\n",
       "    <tr>\n",
       "      <th>50%</th>\n",
       "      <td>29.00000</td>\n",
       "    </tr>\n",
       "    <tr>\n",
       "      <th>75%</th>\n",
       "      <td>48.50000</td>\n",
       "    </tr>\n",
       "    <tr>\n",
       "      <th>max</th>\n",
       "      <td>92.00000</td>\n",
       "    </tr>\n",
       "  </tbody>\n",
       "</table>\n",
       "</div>"
      ],
      "text/plain": [
       "          marks\n",
       "count   4.00000\n",
       "mean   41.75000\n",
       "std    34.21866\n",
       "min    17.00000\n",
       "25%    22.25000\n",
       "50%    29.00000\n",
       "75%    48.50000\n",
       "max    92.00000"
      ]
     },
     "execution_count": 9,
     "metadata": {},
     "output_type": "execute_result"
    }
   ],
   "source": [
    "df.describe()"
   ]
  },
  {
   "cell_type": "code",
   "execution_count": 10,
   "metadata": {},
   "outputs": [],
   "source": [
    "T = pd.read_csv('Train.csv')"
   ]
  },
  {
   "cell_type": "code",
   "execution_count": 11,
   "metadata": {},
   "outputs": [
    {
     "data": {
      "text/html": [
       "<div>\n",
       "<style scoped>\n",
       "    .dataframe tbody tr th:only-of-type {\n",
       "        vertical-align: middle;\n",
       "    }\n",
       "\n",
       "    .dataframe tbody tr th {\n",
       "        vertical-align: top;\n",
       "    }\n",
       "\n",
       "    .dataframe thead th {\n",
       "        text-align: right;\n",
       "    }\n",
       "</style>\n",
       "<table border=\"1\" class=\"dataframe\">\n",
       "  <thead>\n",
       "    <tr style=\"text-align: right;\">\n",
       "      <th></th>\n",
       "      <th>Train No.</th>\n",
       "      <th>Speed</th>\n",
       "      <th>City</th>\n",
       "    </tr>\n",
       "  </thead>\n",
       "  <tbody>\n",
       "    <tr>\n",
       "      <th>0</th>\n",
       "      <td>12545</td>\n",
       "      <td>52</td>\n",
       "      <td>Kolkata</td>\n",
       "    </tr>\n",
       "    <tr>\n",
       "      <th>1</th>\n",
       "      <td>15245</td>\n",
       "      <td>126</td>\n",
       "      <td>Rampur</td>\n",
       "    </tr>\n",
       "    <tr>\n",
       "      <th>2</th>\n",
       "      <td>35954</td>\n",
       "      <td>21</td>\n",
       "      <td>Delhi</td>\n",
       "    </tr>\n",
       "    <tr>\n",
       "      <th>3</th>\n",
       "      <td>45151</td>\n",
       "      <td>111</td>\n",
       "      <td>Bangalore</td>\n",
       "    </tr>\n",
       "  </tbody>\n",
       "</table>\n",
       "</div>"
      ],
      "text/plain": [
       "   Train No.  Speed        City\n",
       "0      12545      52    Kolkata\n",
       "1      15245     126     Rampur\n",
       "2      35954      21      Delhi\n",
       "3      45151     111  Bangalore"
      ]
     },
     "execution_count": 11,
     "metadata": {},
     "output_type": "execute_result"
    }
   ],
   "source": [
    "T"
   ]
  },
  {
   "cell_type": "code",
   "execution_count": 12,
   "metadata": {},
   "outputs": [],
   "source": [
    "T.index = ['first', 'second', 'third', 'fourth'] #index are Rows"
   ]
  },
  {
   "cell_type": "code",
   "execution_count": 13,
   "metadata": {},
   "outputs": [
    {
     "data": {
      "text/html": [
       "<div>\n",
       "<style scoped>\n",
       "    .dataframe tbody tr th:only-of-type {\n",
       "        vertical-align: middle;\n",
       "    }\n",
       "\n",
       "    .dataframe tbody tr th {\n",
       "        vertical-align: top;\n",
       "    }\n",
       "\n",
       "    .dataframe thead th {\n",
       "        text-align: right;\n",
       "    }\n",
       "</style>\n",
       "<table border=\"1\" class=\"dataframe\">\n",
       "  <thead>\n",
       "    <tr style=\"text-align: right;\">\n",
       "      <th></th>\n",
       "      <th>Train No.</th>\n",
       "      <th>Speed</th>\n",
       "      <th>City</th>\n",
       "    </tr>\n",
       "  </thead>\n",
       "  <tbody>\n",
       "    <tr>\n",
       "      <th>first</th>\n",
       "      <td>12545</td>\n",
       "      <td>52</td>\n",
       "      <td>Kolkata</td>\n",
       "    </tr>\n",
       "    <tr>\n",
       "      <th>second</th>\n",
       "      <td>15245</td>\n",
       "      <td>126</td>\n",
       "      <td>Rampur</td>\n",
       "    </tr>\n",
       "    <tr>\n",
       "      <th>third</th>\n",
       "      <td>35954</td>\n",
       "      <td>21</td>\n",
       "      <td>Delhi</td>\n",
       "    </tr>\n",
       "    <tr>\n",
       "      <th>fourth</th>\n",
       "      <td>45151</td>\n",
       "      <td>111</td>\n",
       "      <td>Bangalore</td>\n",
       "    </tr>\n",
       "  </tbody>\n",
       "</table>\n",
       "</div>"
      ],
      "text/plain": [
       "        Train No.  Speed        City\n",
       "first       12545      52    Kolkata\n",
       "second      15245     126     Rampur\n",
       "third       35954      21      Delhi\n",
       "fourth      45151     111  Bangalore"
      ]
     },
     "execution_count": 13,
     "metadata": {},
     "output_type": "execute_result"
    }
   ],
   "source": [
    "T"
   ]
  },
  {
   "cell_type": "code",
   "execution_count": 14,
   "metadata": {},
   "outputs": [],
   "source": [
    "ser = pd.Series(np.random.rand(34))"
   ]
  },
  {
   "cell_type": "code",
   "execution_count": 15,
   "metadata": {},
   "outputs": [
    {
     "data": {
      "text/plain": [
       "0    0.392429\n",
       "1    0.382799\n",
       "2    0.581656\n",
       "3    0.950076\n",
       "4    0.767546\n",
       "dtype: float64"
      ]
     },
     "execution_count": 15,
     "metadata": {},
     "output_type": "execute_result"
    }
   ],
   "source": [
    "ser.head()"
   ]
  },
  {
   "cell_type": "code",
   "execution_count": 16,
   "metadata": {},
   "outputs": [
    {
     "data": {
      "text/plain": [
       "pandas.core.series.Series"
      ]
     },
     "execution_count": 16,
     "metadata": {},
     "output_type": "execute_result"
    }
   ],
   "source": [
    "type(ser)"
   ]
  },
  {
   "cell_type": "code",
   "execution_count": 17,
   "metadata": {},
   "outputs": [],
   "source": [
    "newdf = pd.DataFrame(np.random.rand(334,5), index = np.arange(334))"
   ]
  },
  {
   "cell_type": "code",
   "execution_count": 18,
   "metadata": {},
   "outputs": [
    {
     "data": {
      "text/html": [
       "<div>\n",
       "<style scoped>\n",
       "    .dataframe tbody tr th:only-of-type {\n",
       "        vertical-align: middle;\n",
       "    }\n",
       "\n",
       "    .dataframe tbody tr th {\n",
       "        vertical-align: top;\n",
       "    }\n",
       "\n",
       "    .dataframe thead th {\n",
       "        text-align: right;\n",
       "    }\n",
       "</style>\n",
       "<table border=\"1\" class=\"dataframe\">\n",
       "  <thead>\n",
       "    <tr style=\"text-align: right;\">\n",
       "      <th></th>\n",
       "      <th>0</th>\n",
       "      <th>1</th>\n",
       "      <th>2</th>\n",
       "      <th>3</th>\n",
       "      <th>4</th>\n",
       "    </tr>\n",
       "  </thead>\n",
       "  <tbody>\n",
       "    <tr>\n",
       "      <th>0</th>\n",
       "      <td>0.582793</td>\n",
       "      <td>0.732790</td>\n",
       "      <td>0.727270</td>\n",
       "      <td>0.632950</td>\n",
       "      <td>0.939672</td>\n",
       "    </tr>\n",
       "    <tr>\n",
       "      <th>1</th>\n",
       "      <td>0.587590</td>\n",
       "      <td>0.213604</td>\n",
       "      <td>0.012668</td>\n",
       "      <td>0.582275</td>\n",
       "      <td>0.887989</td>\n",
       "    </tr>\n",
       "    <tr>\n",
       "      <th>2</th>\n",
       "      <td>0.039109</td>\n",
       "      <td>0.368803</td>\n",
       "      <td>0.101702</td>\n",
       "      <td>0.023641</td>\n",
       "      <td>0.255052</td>\n",
       "    </tr>\n",
       "    <tr>\n",
       "      <th>3</th>\n",
       "      <td>0.990438</td>\n",
       "      <td>0.165843</td>\n",
       "      <td>0.475520</td>\n",
       "      <td>0.429048</td>\n",
       "      <td>0.269076</td>\n",
       "    </tr>\n",
       "    <tr>\n",
       "      <th>4</th>\n",
       "      <td>0.303014</td>\n",
       "      <td>0.051501</td>\n",
       "      <td>0.122862</td>\n",
       "      <td>0.666574</td>\n",
       "      <td>0.265433</td>\n",
       "    </tr>\n",
       "  </tbody>\n",
       "</table>\n",
       "</div>"
      ],
      "text/plain": [
       "          0         1         2         3         4\n",
       "0  0.582793  0.732790  0.727270  0.632950  0.939672\n",
       "1  0.587590  0.213604  0.012668  0.582275  0.887989\n",
       "2  0.039109  0.368803  0.101702  0.023641  0.255052\n",
       "3  0.990438  0.165843  0.475520  0.429048  0.269076\n",
       "4  0.303014  0.051501  0.122862  0.666574  0.265433"
      ]
     },
     "execution_count": 18,
     "metadata": {},
     "output_type": "execute_result"
    }
   ],
   "source": [
    "newdf.head()"
   ]
  },
  {
   "cell_type": "code",
   "execution_count": 19,
   "metadata": {},
   "outputs": [
    {
     "data": {
      "text/plain": [
       "pandas.core.frame.DataFrame"
      ]
     },
     "execution_count": 19,
     "metadata": {},
     "output_type": "execute_result"
    }
   ],
   "source": [
    "type(newdf)"
   ]
  },
  {
   "cell_type": "code",
   "execution_count": 20,
   "metadata": {},
   "outputs": [
    {
     "data": {
      "text/html": [
       "<div>\n",
       "<style scoped>\n",
       "    .dataframe tbody tr th:only-of-type {\n",
       "        vertical-align: middle;\n",
       "    }\n",
       "\n",
       "    .dataframe tbody tr th {\n",
       "        vertical-align: top;\n",
       "    }\n",
       "\n",
       "    .dataframe thead th {\n",
       "        text-align: right;\n",
       "    }\n",
       "</style>\n",
       "<table border=\"1\" class=\"dataframe\">\n",
       "  <thead>\n",
       "    <tr style=\"text-align: right;\">\n",
       "      <th></th>\n",
       "      <th>0</th>\n",
       "      <th>1</th>\n",
       "      <th>2</th>\n",
       "      <th>3</th>\n",
       "      <th>4</th>\n",
       "    </tr>\n",
       "  </thead>\n",
       "  <tbody>\n",
       "    <tr>\n",
       "      <th>count</th>\n",
       "      <td>334.000000</td>\n",
       "      <td>334.000000</td>\n",
       "      <td>334.000000</td>\n",
       "      <td>334.000000</td>\n",
       "      <td>334.000000</td>\n",
       "    </tr>\n",
       "    <tr>\n",
       "      <th>mean</th>\n",
       "      <td>0.511564</td>\n",
       "      <td>0.484384</td>\n",
       "      <td>0.492743</td>\n",
       "      <td>0.495876</td>\n",
       "      <td>0.504321</td>\n",
       "    </tr>\n",
       "    <tr>\n",
       "      <th>std</th>\n",
       "      <td>0.281297</td>\n",
       "      <td>0.276758</td>\n",
       "      <td>0.288392</td>\n",
       "      <td>0.286660</td>\n",
       "      <td>0.292587</td>\n",
       "    </tr>\n",
       "    <tr>\n",
       "      <th>min</th>\n",
       "      <td>0.002718</td>\n",
       "      <td>0.002258</td>\n",
       "      <td>0.000630</td>\n",
       "      <td>0.001983</td>\n",
       "      <td>0.002560</td>\n",
       "    </tr>\n",
       "    <tr>\n",
       "      <th>25%</th>\n",
       "      <td>0.276249</td>\n",
       "      <td>0.233004</td>\n",
       "      <td>0.254221</td>\n",
       "      <td>0.238775</td>\n",
       "      <td>0.251327</td>\n",
       "    </tr>\n",
       "    <tr>\n",
       "      <th>50%</th>\n",
       "      <td>0.522906</td>\n",
       "      <td>0.485998</td>\n",
       "      <td>0.481506</td>\n",
       "      <td>0.492581</td>\n",
       "      <td>0.507252</td>\n",
       "    </tr>\n",
       "    <tr>\n",
       "      <th>75%</th>\n",
       "      <td>0.746495</td>\n",
       "      <td>0.709457</td>\n",
       "      <td>0.740884</td>\n",
       "      <td>0.741965</td>\n",
       "      <td>0.743450</td>\n",
       "    </tr>\n",
       "    <tr>\n",
       "      <th>max</th>\n",
       "      <td>0.996345</td>\n",
       "      <td>0.998751</td>\n",
       "      <td>0.997741</td>\n",
       "      <td>0.993028</td>\n",
       "      <td>0.998419</td>\n",
       "    </tr>\n",
       "  </tbody>\n",
       "</table>\n",
       "</div>"
      ],
      "text/plain": [
       "                0           1           2           3           4\n",
       "count  334.000000  334.000000  334.000000  334.000000  334.000000\n",
       "mean     0.511564    0.484384    0.492743    0.495876    0.504321\n",
       "std      0.281297    0.276758    0.288392    0.286660    0.292587\n",
       "min      0.002718    0.002258    0.000630    0.001983    0.002560\n",
       "25%      0.276249    0.233004    0.254221    0.238775    0.251327\n",
       "50%      0.522906    0.485998    0.481506    0.492581    0.507252\n",
       "75%      0.746495    0.709457    0.740884    0.741965    0.743450\n",
       "max      0.996345    0.998751    0.997741    0.993028    0.998419"
      ]
     },
     "execution_count": 20,
     "metadata": {},
     "output_type": "execute_result"
    }
   ],
   "source": [
    "newdf.describe()"
   ]
  },
  {
   "cell_type": "code",
   "execution_count": 21,
   "metadata": {},
   "outputs": [
    {
     "data": {
      "text/plain": [
       "0    float64\n",
       "1    float64\n",
       "2    float64\n",
       "3    float64\n",
       "4    float64\n",
       "dtype: object"
      ]
     },
     "execution_count": 21,
     "metadata": {},
     "output_type": "execute_result"
    }
   ],
   "source": [
    "newdf.dtypes"
   ]
  },
  {
   "cell_type": "code",
   "execution_count": 22,
   "metadata": {},
   "outputs": [],
   "source": [
    "newdf[0][0] = 'harry'"
   ]
  },
  {
   "cell_type": "code",
   "execution_count": 23,
   "metadata": {},
   "outputs": [
    {
     "data": {
      "text/plain": [
       "0     object\n",
       "1    float64\n",
       "2    float64\n",
       "3    float64\n",
       "4    float64\n",
       "dtype: object"
      ]
     },
     "execution_count": 23,
     "metadata": {},
     "output_type": "execute_result"
    }
   ],
   "source": [
    "newdf.dtypes"
   ]
  },
  {
   "cell_type": "code",
   "execution_count": 24,
   "metadata": {},
   "outputs": [
    {
     "data": {
      "text/html": [
       "<div>\n",
       "<style scoped>\n",
       "    .dataframe tbody tr th:only-of-type {\n",
       "        vertical-align: middle;\n",
       "    }\n",
       "\n",
       "    .dataframe tbody tr th {\n",
       "        vertical-align: top;\n",
       "    }\n",
       "\n",
       "    .dataframe thead th {\n",
       "        text-align: right;\n",
       "    }\n",
       "</style>\n",
       "<table border=\"1\" class=\"dataframe\">\n",
       "  <thead>\n",
       "    <tr style=\"text-align: right;\">\n",
       "      <th></th>\n",
       "      <th>0</th>\n",
       "      <th>1</th>\n",
       "      <th>2</th>\n",
       "      <th>3</th>\n",
       "      <th>4</th>\n",
       "    </tr>\n",
       "  </thead>\n",
       "  <tbody>\n",
       "    <tr>\n",
       "      <th>0</th>\n",
       "      <td>harry</td>\n",
       "      <td>0.732790</td>\n",
       "      <td>0.727270</td>\n",
       "      <td>0.632950</td>\n",
       "      <td>0.939672</td>\n",
       "    </tr>\n",
       "    <tr>\n",
       "      <th>1</th>\n",
       "      <td>0.58759</td>\n",
       "      <td>0.213604</td>\n",
       "      <td>0.012668</td>\n",
       "      <td>0.582275</td>\n",
       "      <td>0.887989</td>\n",
       "    </tr>\n",
       "    <tr>\n",
       "      <th>2</th>\n",
       "      <td>0.0391092</td>\n",
       "      <td>0.368803</td>\n",
       "      <td>0.101702</td>\n",
       "      <td>0.023641</td>\n",
       "      <td>0.255052</td>\n",
       "    </tr>\n",
       "    <tr>\n",
       "      <th>3</th>\n",
       "      <td>0.990438</td>\n",
       "      <td>0.165843</td>\n",
       "      <td>0.475520</td>\n",
       "      <td>0.429048</td>\n",
       "      <td>0.269076</td>\n",
       "    </tr>\n",
       "    <tr>\n",
       "      <th>4</th>\n",
       "      <td>0.303014</td>\n",
       "      <td>0.051501</td>\n",
       "      <td>0.122862</td>\n",
       "      <td>0.666574</td>\n",
       "      <td>0.265433</td>\n",
       "    </tr>\n",
       "  </tbody>\n",
       "</table>\n",
       "</div>"
      ],
      "text/plain": [
       "           0         1         2         3         4\n",
       "0      harry  0.732790  0.727270  0.632950  0.939672\n",
       "1    0.58759  0.213604  0.012668  0.582275  0.887989\n",
       "2  0.0391092  0.368803  0.101702  0.023641  0.255052\n",
       "3   0.990438  0.165843  0.475520  0.429048  0.269076\n",
       "4   0.303014  0.051501  0.122862  0.666574  0.265433"
      ]
     },
     "execution_count": 24,
     "metadata": {},
     "output_type": "execute_result"
    }
   ],
   "source": [
    "newdf.head()"
   ]
  },
  {
   "cell_type": "code",
   "execution_count": 25,
   "metadata": {},
   "outputs": [
    {
     "data": {
      "text/plain": [
       "Int64Index([  0,   1,   2,   3,   4,   5,   6,   7,   8,   9,\n",
       "            ...\n",
       "            324, 325, 326, 327, 328, 329, 330, 331, 332, 333],\n",
       "           dtype='int64', length=334)"
      ]
     },
     "execution_count": 25,
     "metadata": {},
     "output_type": "execute_result"
    }
   ],
   "source": [
    "newdf.index"
   ]
  },
  {
   "cell_type": "code",
   "execution_count": 26,
   "metadata": {},
   "outputs": [
    {
     "data": {
      "text/plain": [
       "RangeIndex(start=0, stop=5, step=1)"
      ]
     },
     "execution_count": 26,
     "metadata": {},
     "output_type": "execute_result"
    }
   ],
   "source": [
    "newdf.columns"
   ]
  },
  {
   "cell_type": "code",
   "execution_count": 27,
   "metadata": {},
   "outputs": [
    {
     "data": {
      "text/plain": [
       "array([['harry', 0.732789998555978, 0.7272695618025184,\n",
       "        0.6329503083359986, 0.9396717178212309],\n",
       "       [0.5875896099400506, 0.21360394774725522, 0.012668165438284862,\n",
       "        0.5822751443138506, 0.8879893835463452],\n",
       "       [0.03910923393305632, 0.36880265757683073, 0.10170197915846213,\n",
       "        0.023640746977343752, 0.25505171350432465],\n",
       "       ...,\n",
       "       [0.06905687658910198, 0.7030362006283478, 0.7051886099281018,\n",
       "        0.4010743116092227, 0.8469994508251109],\n",
       "       [0.9103330714575818, 0.9116266806679838, 0.47925962828354296,\n",
       "        0.15409509141493638, 0.6832473317732145],\n",
       "       [0.9023127068803591, 0.3314860023157026, 0.5087336628518883,\n",
       "        0.8340185361569132, 0.29131634828271313]], dtype=object)"
      ]
     },
     "execution_count": 27,
     "metadata": {},
     "output_type": "execute_result"
    }
   ],
   "source": [
    "newdf.to_numpy()"
   ]
  },
  {
   "cell_type": "code",
   "execution_count": 28,
   "metadata": {},
   "outputs": [
    {
     "name": "stderr",
     "output_type": "stream",
     "text": [
      "<ipython-input-28-452ed7015823>:1: SettingWithCopyWarning: \n",
      "A value is trying to be set on a copy of a slice from a DataFrame\n",
      "\n",
      "See the caveats in the documentation: https://pandas.pydata.org/pandas-docs/stable/user_guide/indexing.html#returning-a-view-versus-a-copy\n",
      "  newdf[0][0] = 0.3\n"
     ]
    }
   ],
   "source": [
    "newdf[0][0] = 0.3"
   ]
  },
  {
   "cell_type": "code",
   "execution_count": 29,
   "metadata": {},
   "outputs": [
    {
     "data": {
      "text/html": [
       "<div>\n",
       "<style scoped>\n",
       "    .dataframe tbody tr th:only-of-type {\n",
       "        vertical-align: middle;\n",
       "    }\n",
       "\n",
       "    .dataframe tbody tr th {\n",
       "        vertical-align: top;\n",
       "    }\n",
       "\n",
       "    .dataframe thead th {\n",
       "        text-align: right;\n",
       "    }\n",
       "</style>\n",
       "<table border=\"1\" class=\"dataframe\">\n",
       "  <thead>\n",
       "    <tr style=\"text-align: right;\">\n",
       "      <th></th>\n",
       "      <th>0</th>\n",
       "      <th>1</th>\n",
       "      <th>2</th>\n",
       "      <th>3</th>\n",
       "      <th>4</th>\n",
       "    </tr>\n",
       "  </thead>\n",
       "  <tbody>\n",
       "    <tr>\n",
       "      <th>0</th>\n",
       "      <td>0.3</td>\n",
       "      <td>0.732790</td>\n",
       "      <td>0.727270</td>\n",
       "      <td>0.632950</td>\n",
       "      <td>0.939672</td>\n",
       "    </tr>\n",
       "    <tr>\n",
       "      <th>1</th>\n",
       "      <td>0.58759</td>\n",
       "      <td>0.213604</td>\n",
       "      <td>0.012668</td>\n",
       "      <td>0.582275</td>\n",
       "      <td>0.887989</td>\n",
       "    </tr>\n",
       "    <tr>\n",
       "      <th>2</th>\n",
       "      <td>0.0391092</td>\n",
       "      <td>0.368803</td>\n",
       "      <td>0.101702</td>\n",
       "      <td>0.023641</td>\n",
       "      <td>0.255052</td>\n",
       "    </tr>\n",
       "    <tr>\n",
       "      <th>3</th>\n",
       "      <td>0.990438</td>\n",
       "      <td>0.165843</td>\n",
       "      <td>0.475520</td>\n",
       "      <td>0.429048</td>\n",
       "      <td>0.269076</td>\n",
       "    </tr>\n",
       "    <tr>\n",
       "      <th>4</th>\n",
       "      <td>0.303014</td>\n",
       "      <td>0.051501</td>\n",
       "      <td>0.122862</td>\n",
       "      <td>0.666574</td>\n",
       "      <td>0.265433</td>\n",
       "    </tr>\n",
       "  </tbody>\n",
       "</table>\n",
       "</div>"
      ],
      "text/plain": [
       "           0         1         2         3         4\n",
       "0        0.3  0.732790  0.727270  0.632950  0.939672\n",
       "1    0.58759  0.213604  0.012668  0.582275  0.887989\n",
       "2  0.0391092  0.368803  0.101702  0.023641  0.255052\n",
       "3   0.990438  0.165843  0.475520  0.429048  0.269076\n",
       "4   0.303014  0.051501  0.122862  0.666574  0.265433"
      ]
     },
     "execution_count": 29,
     "metadata": {},
     "output_type": "execute_result"
    }
   ],
   "source": [
    "newdf.head()"
   ]
  },
  {
   "cell_type": "code",
   "execution_count": 30,
   "metadata": {
    "scrolled": false
   },
   "outputs": [
    {
     "data": {
      "text/html": [
       "<div>\n",
       "<style scoped>\n",
       "    .dataframe tbody tr th:only-of-type {\n",
       "        vertical-align: middle;\n",
       "    }\n",
       "\n",
       "    .dataframe tbody tr th {\n",
       "        vertical-align: top;\n",
       "    }\n",
       "\n",
       "    .dataframe thead th {\n",
       "        text-align: right;\n",
       "    }\n",
       "</style>\n",
       "<table border=\"1\" class=\"dataframe\">\n",
       "  <thead>\n",
       "    <tr style=\"text-align: right;\">\n",
       "      <th></th>\n",
       "      <th>0</th>\n",
       "      <th>1</th>\n",
       "      <th>2</th>\n",
       "      <th>3</th>\n",
       "      <th>4</th>\n",
       "      <th>5</th>\n",
       "      <th>6</th>\n",
       "      <th>7</th>\n",
       "      <th>8</th>\n",
       "      <th>9</th>\n",
       "      <th>...</th>\n",
       "      <th>324</th>\n",
       "      <th>325</th>\n",
       "      <th>326</th>\n",
       "      <th>327</th>\n",
       "      <th>328</th>\n",
       "      <th>329</th>\n",
       "      <th>330</th>\n",
       "      <th>331</th>\n",
       "      <th>332</th>\n",
       "      <th>333</th>\n",
       "    </tr>\n",
       "  </thead>\n",
       "  <tbody>\n",
       "    <tr>\n",
       "      <th>0</th>\n",
       "      <td>0.3</td>\n",
       "      <td>0.58759</td>\n",
       "      <td>0.0391092</td>\n",
       "      <td>0.990438</td>\n",
       "      <td>0.303014</td>\n",
       "      <td>0.136335</td>\n",
       "      <td>0.701101</td>\n",
       "      <td>0.121119</td>\n",
       "      <td>0.25796</td>\n",
       "      <td>0.936542</td>\n",
       "      <td>...</td>\n",
       "      <td>0.895146</td>\n",
       "      <td>0.644655</td>\n",
       "      <td>0.430901</td>\n",
       "      <td>0.726481</td>\n",
       "      <td>0.621935</td>\n",
       "      <td>0.159084</td>\n",
       "      <td>0.161786</td>\n",
       "      <td>0.0690569</td>\n",
       "      <td>0.910333</td>\n",
       "      <td>0.902313</td>\n",
       "    </tr>\n",
       "    <tr>\n",
       "      <th>1</th>\n",
       "      <td>0.73279</td>\n",
       "      <td>0.213604</td>\n",
       "      <td>0.368803</td>\n",
       "      <td>0.165843</td>\n",
       "      <td>0.0515008</td>\n",
       "      <td>0.47508</td>\n",
       "      <td>0.711977</td>\n",
       "      <td>0.209589</td>\n",
       "      <td>0.478518</td>\n",
       "      <td>0.482017</td>\n",
       "      <td>...</td>\n",
       "      <td>0.634311</td>\n",
       "      <td>0.0546757</td>\n",
       "      <td>0.591933</td>\n",
       "      <td>0.195945</td>\n",
       "      <td>0.696076</td>\n",
       "      <td>0.165603</td>\n",
       "      <td>0.736154</td>\n",
       "      <td>0.703036</td>\n",
       "      <td>0.911627</td>\n",
       "      <td>0.331486</td>\n",
       "    </tr>\n",
       "    <tr>\n",
       "      <th>2</th>\n",
       "      <td>0.72727</td>\n",
       "      <td>0.0126682</td>\n",
       "      <td>0.101702</td>\n",
       "      <td>0.47552</td>\n",
       "      <td>0.122862</td>\n",
       "      <td>0.102471</td>\n",
       "      <td>0.125405</td>\n",
       "      <td>0.850334</td>\n",
       "      <td>0.135725</td>\n",
       "      <td>0.528649</td>\n",
       "      <td>...</td>\n",
       "      <td>0.806851</td>\n",
       "      <td>0.478334</td>\n",
       "      <td>0.0340097</td>\n",
       "      <td>0.770572</td>\n",
       "      <td>0.483753</td>\n",
       "      <td>0.685071</td>\n",
       "      <td>0.997741</td>\n",
       "      <td>0.705189</td>\n",
       "      <td>0.47926</td>\n",
       "      <td>0.508734</td>\n",
       "    </tr>\n",
       "    <tr>\n",
       "      <th>3</th>\n",
       "      <td>0.63295</td>\n",
       "      <td>0.582275</td>\n",
       "      <td>0.0236407</td>\n",
       "      <td>0.429048</td>\n",
       "      <td>0.666574</td>\n",
       "      <td>0.21227</td>\n",
       "      <td>0.91752</td>\n",
       "      <td>0.300847</td>\n",
       "      <td>0.871976</td>\n",
       "      <td>0.241455</td>\n",
       "      <td>...</td>\n",
       "      <td>0.272106</td>\n",
       "      <td>0.219613</td>\n",
       "      <td>0.316167</td>\n",
       "      <td>0.788618</td>\n",
       "      <td>0.88327</td>\n",
       "      <td>0.851605</td>\n",
       "      <td>0.888714</td>\n",
       "      <td>0.401074</td>\n",
       "      <td>0.154095</td>\n",
       "      <td>0.834019</td>\n",
       "    </tr>\n",
       "    <tr>\n",
       "      <th>4</th>\n",
       "      <td>0.939672</td>\n",
       "      <td>0.887989</td>\n",
       "      <td>0.255052</td>\n",
       "      <td>0.269076</td>\n",
       "      <td>0.265433</td>\n",
       "      <td>0.96038</td>\n",
       "      <td>0.0474975</td>\n",
       "      <td>0.00673746</td>\n",
       "      <td>0.959029</td>\n",
       "      <td>0.50647</td>\n",
       "      <td>...</td>\n",
       "      <td>0.0563678</td>\n",
       "      <td>0.253419</td>\n",
       "      <td>0.25061</td>\n",
       "      <td>0.677735</td>\n",
       "      <td>0.92162</td>\n",
       "      <td>0.0749822</td>\n",
       "      <td>0.172033</td>\n",
       "      <td>0.846999</td>\n",
       "      <td>0.683247</td>\n",
       "      <td>0.291316</td>\n",
       "    </tr>\n",
       "  </tbody>\n",
       "</table>\n",
       "<p>5 rows × 334 columns</p>\n",
       "</div>"
      ],
      "text/plain": [
       "        0          1          2         3          4         5          6    \\\n",
       "0       0.3    0.58759  0.0391092  0.990438   0.303014  0.136335   0.701101   \n",
       "1   0.73279   0.213604   0.368803  0.165843  0.0515008   0.47508   0.711977   \n",
       "2   0.72727  0.0126682   0.101702   0.47552   0.122862  0.102471   0.125405   \n",
       "3   0.63295   0.582275  0.0236407  0.429048   0.666574   0.21227    0.91752   \n",
       "4  0.939672   0.887989   0.255052  0.269076   0.265433   0.96038  0.0474975   \n",
       "\n",
       "          7         8         9    ...        324        325        326  \\\n",
       "0    0.121119   0.25796  0.936542  ...   0.895146   0.644655   0.430901   \n",
       "1    0.209589  0.478518  0.482017  ...   0.634311  0.0546757   0.591933   \n",
       "2    0.850334  0.135725  0.528649  ...   0.806851   0.478334  0.0340097   \n",
       "3    0.300847  0.871976  0.241455  ...   0.272106   0.219613   0.316167   \n",
       "4  0.00673746  0.959029   0.50647  ...  0.0563678   0.253419    0.25061   \n",
       "\n",
       "        327       328        329       330        331       332       333  \n",
       "0  0.726481  0.621935   0.159084  0.161786  0.0690569  0.910333  0.902313  \n",
       "1  0.195945  0.696076   0.165603  0.736154   0.703036  0.911627  0.331486  \n",
       "2  0.770572  0.483753   0.685071  0.997741   0.705189   0.47926  0.508734  \n",
       "3  0.788618   0.88327   0.851605  0.888714   0.401074  0.154095  0.834019  \n",
       "4  0.677735   0.92162  0.0749822  0.172033   0.846999  0.683247  0.291316  \n",
       "\n",
       "[5 rows x 334 columns]"
      ]
     },
     "execution_count": 30,
     "metadata": {},
     "output_type": "execute_result"
    }
   ],
   "source": [
    "newdf.T"
   ]
  },
  {
   "cell_type": "code",
   "execution_count": 31,
   "metadata": {},
   "outputs": [
    {
     "data": {
      "text/html": [
       "<div>\n",
       "<style scoped>\n",
       "    .dataframe tbody tr th:only-of-type {\n",
       "        vertical-align: middle;\n",
       "    }\n",
       "\n",
       "    .dataframe tbody tr th {\n",
       "        vertical-align: top;\n",
       "    }\n",
       "\n",
       "    .dataframe thead th {\n",
       "        text-align: right;\n",
       "    }\n",
       "</style>\n",
       "<table border=\"1\" class=\"dataframe\">\n",
       "  <thead>\n",
       "    <tr style=\"text-align: right;\">\n",
       "      <th></th>\n",
       "      <th>0</th>\n",
       "      <th>1</th>\n",
       "      <th>2</th>\n",
       "      <th>3</th>\n",
       "      <th>4</th>\n",
       "    </tr>\n",
       "  </thead>\n",
       "  <tbody>\n",
       "    <tr>\n",
       "      <th>0</th>\n",
       "      <td>0.3</td>\n",
       "      <td>0.732790</td>\n",
       "      <td>0.727270</td>\n",
       "      <td>0.632950</td>\n",
       "      <td>0.939672</td>\n",
       "    </tr>\n",
       "    <tr>\n",
       "      <th>1</th>\n",
       "      <td>0.58759</td>\n",
       "      <td>0.213604</td>\n",
       "      <td>0.012668</td>\n",
       "      <td>0.582275</td>\n",
       "      <td>0.887989</td>\n",
       "    </tr>\n",
       "    <tr>\n",
       "      <th>2</th>\n",
       "      <td>0.0391092</td>\n",
       "      <td>0.368803</td>\n",
       "      <td>0.101702</td>\n",
       "      <td>0.023641</td>\n",
       "      <td>0.255052</td>\n",
       "    </tr>\n",
       "    <tr>\n",
       "      <th>3</th>\n",
       "      <td>0.990438</td>\n",
       "      <td>0.165843</td>\n",
       "      <td>0.475520</td>\n",
       "      <td>0.429048</td>\n",
       "      <td>0.269076</td>\n",
       "    </tr>\n",
       "    <tr>\n",
       "      <th>4</th>\n",
       "      <td>0.303014</td>\n",
       "      <td>0.051501</td>\n",
       "      <td>0.122862</td>\n",
       "      <td>0.666574</td>\n",
       "      <td>0.265433</td>\n",
       "    </tr>\n",
       "  </tbody>\n",
       "</table>\n",
       "</div>"
      ],
      "text/plain": [
       "           0         1         2         3         4\n",
       "0        0.3  0.732790  0.727270  0.632950  0.939672\n",
       "1    0.58759  0.213604  0.012668  0.582275  0.887989\n",
       "2  0.0391092  0.368803  0.101702  0.023641  0.255052\n",
       "3   0.990438  0.165843  0.475520  0.429048  0.269076\n",
       "4   0.303014  0.051501  0.122862  0.666574  0.265433"
      ]
     },
     "execution_count": 31,
     "metadata": {},
     "output_type": "execute_result"
    }
   ],
   "source": [
    "newdf.head()"
   ]
  },
  {
   "cell_type": "code",
   "execution_count": 32,
   "metadata": {
    "scrolled": true
   },
   "outputs": [
    {
     "data": {
      "text/html": [
       "<div>\n",
       "<style scoped>\n",
       "    .dataframe tbody tr th:only-of-type {\n",
       "        vertical-align: middle;\n",
       "    }\n",
       "\n",
       "    .dataframe tbody tr th {\n",
       "        vertical-align: top;\n",
       "    }\n",
       "\n",
       "    .dataframe thead th {\n",
       "        text-align: right;\n",
       "    }\n",
       "</style>\n",
       "<table border=\"1\" class=\"dataframe\">\n",
       "  <thead>\n",
       "    <tr style=\"text-align: right;\">\n",
       "      <th></th>\n",
       "      <th>0</th>\n",
       "      <th>1</th>\n",
       "      <th>2</th>\n",
       "      <th>3</th>\n",
       "      <th>4</th>\n",
       "    </tr>\n",
       "  </thead>\n",
       "  <tbody>\n",
       "    <tr>\n",
       "      <th>333</th>\n",
       "      <td>0.902313</td>\n",
       "      <td>0.331486</td>\n",
       "      <td>0.508734</td>\n",
       "      <td>0.834019</td>\n",
       "      <td>0.291316</td>\n",
       "    </tr>\n",
       "    <tr>\n",
       "      <th>332</th>\n",
       "      <td>0.910333</td>\n",
       "      <td>0.911627</td>\n",
       "      <td>0.479260</td>\n",
       "      <td>0.154095</td>\n",
       "      <td>0.683247</td>\n",
       "    </tr>\n",
       "    <tr>\n",
       "      <th>331</th>\n",
       "      <td>0.0690569</td>\n",
       "      <td>0.703036</td>\n",
       "      <td>0.705189</td>\n",
       "      <td>0.401074</td>\n",
       "      <td>0.846999</td>\n",
       "    </tr>\n",
       "    <tr>\n",
       "      <th>330</th>\n",
       "      <td>0.161786</td>\n",
       "      <td>0.736154</td>\n",
       "      <td>0.997741</td>\n",
       "      <td>0.888714</td>\n",
       "      <td>0.172033</td>\n",
       "    </tr>\n",
       "    <tr>\n",
       "      <th>329</th>\n",
       "      <td>0.159084</td>\n",
       "      <td>0.165603</td>\n",
       "      <td>0.685071</td>\n",
       "      <td>0.851605</td>\n",
       "      <td>0.074982</td>\n",
       "    </tr>\n",
       "    <tr>\n",
       "      <th>...</th>\n",
       "      <td>...</td>\n",
       "      <td>...</td>\n",
       "      <td>...</td>\n",
       "      <td>...</td>\n",
       "      <td>...</td>\n",
       "    </tr>\n",
       "    <tr>\n",
       "      <th>4</th>\n",
       "      <td>0.303014</td>\n",
       "      <td>0.051501</td>\n",
       "      <td>0.122862</td>\n",
       "      <td>0.666574</td>\n",
       "      <td>0.265433</td>\n",
       "    </tr>\n",
       "    <tr>\n",
       "      <th>3</th>\n",
       "      <td>0.990438</td>\n",
       "      <td>0.165843</td>\n",
       "      <td>0.475520</td>\n",
       "      <td>0.429048</td>\n",
       "      <td>0.269076</td>\n",
       "    </tr>\n",
       "    <tr>\n",
       "      <th>2</th>\n",
       "      <td>0.0391092</td>\n",
       "      <td>0.368803</td>\n",
       "      <td>0.101702</td>\n",
       "      <td>0.023641</td>\n",
       "      <td>0.255052</td>\n",
       "    </tr>\n",
       "    <tr>\n",
       "      <th>1</th>\n",
       "      <td>0.58759</td>\n",
       "      <td>0.213604</td>\n",
       "      <td>0.012668</td>\n",
       "      <td>0.582275</td>\n",
       "      <td>0.887989</td>\n",
       "    </tr>\n",
       "    <tr>\n",
       "      <th>0</th>\n",
       "      <td>0.3</td>\n",
       "      <td>0.732790</td>\n",
       "      <td>0.727270</td>\n",
       "      <td>0.632950</td>\n",
       "      <td>0.939672</td>\n",
       "    </tr>\n",
       "  </tbody>\n",
       "</table>\n",
       "<p>334 rows × 5 columns</p>\n",
       "</div>"
      ],
      "text/plain": [
       "             0         1         2         3         4\n",
       "333   0.902313  0.331486  0.508734  0.834019  0.291316\n",
       "332   0.910333  0.911627  0.479260  0.154095  0.683247\n",
       "331  0.0690569  0.703036  0.705189  0.401074  0.846999\n",
       "330   0.161786  0.736154  0.997741  0.888714  0.172033\n",
       "329   0.159084  0.165603  0.685071  0.851605  0.074982\n",
       "..         ...       ...       ...       ...       ...\n",
       "4     0.303014  0.051501  0.122862  0.666574  0.265433\n",
       "3     0.990438  0.165843  0.475520  0.429048  0.269076\n",
       "2    0.0391092  0.368803  0.101702  0.023641  0.255052\n",
       "1      0.58759  0.213604  0.012668  0.582275  0.887989\n",
       "0          0.3  0.732790  0.727270  0.632950  0.939672\n",
       "\n",
       "[334 rows x 5 columns]"
      ]
     },
     "execution_count": 32,
     "metadata": {},
     "output_type": "execute_result"
    }
   ],
   "source": [
    "newdf.sort_index(axis = 0, ascending = False)"
   ]
  },
  {
   "cell_type": "code",
   "execution_count": 33,
   "metadata": {},
   "outputs": [
    {
     "data": {
      "text/html": [
       "<div>\n",
       "<style scoped>\n",
       "    .dataframe tbody tr th:only-of-type {\n",
       "        vertical-align: middle;\n",
       "    }\n",
       "\n",
       "    .dataframe tbody tr th {\n",
       "        vertical-align: top;\n",
       "    }\n",
       "\n",
       "    .dataframe thead th {\n",
       "        text-align: right;\n",
       "    }\n",
       "</style>\n",
       "<table border=\"1\" class=\"dataframe\">\n",
       "  <thead>\n",
       "    <tr style=\"text-align: right;\">\n",
       "      <th></th>\n",
       "      <th>4</th>\n",
       "      <th>3</th>\n",
       "      <th>2</th>\n",
       "      <th>1</th>\n",
       "      <th>0</th>\n",
       "    </tr>\n",
       "  </thead>\n",
       "  <tbody>\n",
       "    <tr>\n",
       "      <th>0</th>\n",
       "      <td>0.939672</td>\n",
       "      <td>0.632950</td>\n",
       "      <td>0.727270</td>\n",
       "      <td>0.732790</td>\n",
       "      <td>0.3</td>\n",
       "    </tr>\n",
       "    <tr>\n",
       "      <th>1</th>\n",
       "      <td>0.887989</td>\n",
       "      <td>0.582275</td>\n",
       "      <td>0.012668</td>\n",
       "      <td>0.213604</td>\n",
       "      <td>0.58759</td>\n",
       "    </tr>\n",
       "    <tr>\n",
       "      <th>2</th>\n",
       "      <td>0.255052</td>\n",
       "      <td>0.023641</td>\n",
       "      <td>0.101702</td>\n",
       "      <td>0.368803</td>\n",
       "      <td>0.0391092</td>\n",
       "    </tr>\n",
       "    <tr>\n",
       "      <th>3</th>\n",
       "      <td>0.269076</td>\n",
       "      <td>0.429048</td>\n",
       "      <td>0.475520</td>\n",
       "      <td>0.165843</td>\n",
       "      <td>0.990438</td>\n",
       "    </tr>\n",
       "    <tr>\n",
       "      <th>4</th>\n",
       "      <td>0.265433</td>\n",
       "      <td>0.666574</td>\n",
       "      <td>0.122862</td>\n",
       "      <td>0.051501</td>\n",
       "      <td>0.303014</td>\n",
       "    </tr>\n",
       "    <tr>\n",
       "      <th>...</th>\n",
       "      <td>...</td>\n",
       "      <td>...</td>\n",
       "      <td>...</td>\n",
       "      <td>...</td>\n",
       "      <td>...</td>\n",
       "    </tr>\n",
       "    <tr>\n",
       "      <th>329</th>\n",
       "      <td>0.074982</td>\n",
       "      <td>0.851605</td>\n",
       "      <td>0.685071</td>\n",
       "      <td>0.165603</td>\n",
       "      <td>0.159084</td>\n",
       "    </tr>\n",
       "    <tr>\n",
       "      <th>330</th>\n",
       "      <td>0.172033</td>\n",
       "      <td>0.888714</td>\n",
       "      <td>0.997741</td>\n",
       "      <td>0.736154</td>\n",
       "      <td>0.161786</td>\n",
       "    </tr>\n",
       "    <tr>\n",
       "      <th>331</th>\n",
       "      <td>0.846999</td>\n",
       "      <td>0.401074</td>\n",
       "      <td>0.705189</td>\n",
       "      <td>0.703036</td>\n",
       "      <td>0.0690569</td>\n",
       "    </tr>\n",
       "    <tr>\n",
       "      <th>332</th>\n",
       "      <td>0.683247</td>\n",
       "      <td>0.154095</td>\n",
       "      <td>0.479260</td>\n",
       "      <td>0.911627</td>\n",
       "      <td>0.910333</td>\n",
       "    </tr>\n",
       "    <tr>\n",
       "      <th>333</th>\n",
       "      <td>0.291316</td>\n",
       "      <td>0.834019</td>\n",
       "      <td>0.508734</td>\n",
       "      <td>0.331486</td>\n",
       "      <td>0.902313</td>\n",
       "    </tr>\n",
       "  </tbody>\n",
       "</table>\n",
       "<p>334 rows × 5 columns</p>\n",
       "</div>"
      ],
      "text/plain": [
       "            4         3         2         1          0\n",
       "0    0.939672  0.632950  0.727270  0.732790        0.3\n",
       "1    0.887989  0.582275  0.012668  0.213604    0.58759\n",
       "2    0.255052  0.023641  0.101702  0.368803  0.0391092\n",
       "3    0.269076  0.429048  0.475520  0.165843   0.990438\n",
       "4    0.265433  0.666574  0.122862  0.051501   0.303014\n",
       "..        ...       ...       ...       ...        ...\n",
       "329  0.074982  0.851605  0.685071  0.165603   0.159084\n",
       "330  0.172033  0.888714  0.997741  0.736154   0.161786\n",
       "331  0.846999  0.401074  0.705189  0.703036  0.0690569\n",
       "332  0.683247  0.154095  0.479260  0.911627   0.910333\n",
       "333  0.291316  0.834019  0.508734  0.331486   0.902313\n",
       "\n",
       "[334 rows x 5 columns]"
      ]
     },
     "execution_count": 33,
     "metadata": {},
     "output_type": "execute_result"
    }
   ],
   "source": [
    "newdf.sort_index(axis = 1, ascending = False)"
   ]
  },
  {
   "cell_type": "code",
   "execution_count": 34,
   "metadata": {},
   "outputs": [
    {
     "data": {
      "text/html": [
       "<div>\n",
       "<style scoped>\n",
       "    .dataframe tbody tr th:only-of-type {\n",
       "        vertical-align: middle;\n",
       "    }\n",
       "\n",
       "    .dataframe tbody tr th {\n",
       "        vertical-align: top;\n",
       "    }\n",
       "\n",
       "    .dataframe thead th {\n",
       "        text-align: right;\n",
       "    }\n",
       "</style>\n",
       "<table border=\"1\" class=\"dataframe\">\n",
       "  <thead>\n",
       "    <tr style=\"text-align: right;\">\n",
       "      <th></th>\n",
       "      <th>0</th>\n",
       "      <th>1</th>\n",
       "      <th>2</th>\n",
       "      <th>3</th>\n",
       "      <th>4</th>\n",
       "    </tr>\n",
       "  </thead>\n",
       "  <tbody>\n",
       "    <tr>\n",
       "      <th>0</th>\n",
       "      <td>0.3</td>\n",
       "      <td>0.732790</td>\n",
       "      <td>0.727270</td>\n",
       "      <td>0.632950</td>\n",
       "      <td>0.939672</td>\n",
       "    </tr>\n",
       "    <tr>\n",
       "      <th>1</th>\n",
       "      <td>0.58759</td>\n",
       "      <td>0.213604</td>\n",
       "      <td>0.012668</td>\n",
       "      <td>0.582275</td>\n",
       "      <td>0.887989</td>\n",
       "    </tr>\n",
       "    <tr>\n",
       "      <th>2</th>\n",
       "      <td>0.0391092</td>\n",
       "      <td>0.368803</td>\n",
       "      <td>0.101702</td>\n",
       "      <td>0.023641</td>\n",
       "      <td>0.255052</td>\n",
       "    </tr>\n",
       "    <tr>\n",
       "      <th>3</th>\n",
       "      <td>0.990438</td>\n",
       "      <td>0.165843</td>\n",
       "      <td>0.475520</td>\n",
       "      <td>0.429048</td>\n",
       "      <td>0.269076</td>\n",
       "    </tr>\n",
       "    <tr>\n",
       "      <th>4</th>\n",
       "      <td>0.303014</td>\n",
       "      <td>0.051501</td>\n",
       "      <td>0.122862</td>\n",
       "      <td>0.666574</td>\n",
       "      <td>0.265433</td>\n",
       "    </tr>\n",
       "  </tbody>\n",
       "</table>\n",
       "</div>"
      ],
      "text/plain": [
       "           0         1         2         3         4\n",
       "0        0.3  0.732790  0.727270  0.632950  0.939672\n",
       "1    0.58759  0.213604  0.012668  0.582275  0.887989\n",
       "2  0.0391092  0.368803  0.101702  0.023641  0.255052\n",
       "3   0.990438  0.165843  0.475520  0.429048  0.269076\n",
       "4   0.303014  0.051501  0.122862  0.666574  0.265433"
      ]
     },
     "execution_count": 34,
     "metadata": {},
     "output_type": "execute_result"
    }
   ],
   "source": [
    "newdf.head()"
   ]
  },
  {
   "cell_type": "code",
   "execution_count": 35,
   "metadata": {},
   "outputs": [
    {
     "data": {
      "text/plain": [
       "pandas.core.series.Series"
      ]
     },
     "execution_count": 35,
     "metadata": {},
     "output_type": "execute_result"
    }
   ],
   "source": [
    "type(newdf[0])"
   ]
  },
  {
   "cell_type": "code",
   "execution_count": 36,
   "metadata": {},
   "outputs": [],
   "source": [
    "newdf2 = newdf #newdf2 is a view or pointer that is pointing towards rhe newdf\n",
    "#newdf2 = newdf.copy() does not change newdf value "
   ]
  },
  {
   "cell_type": "code",
   "execution_count": 37,
   "metadata": {},
   "outputs": [
    {
     "name": "stderr",
     "output_type": "stream",
     "text": [
      "<ipython-input-37-9e16c8ee0a00>:1: SettingWithCopyWarning: \n",
      "A value is trying to be set on a copy of a slice from a DataFrame\n",
      "\n",
      "See the caveats in the documentation: https://pandas.pydata.org/pandas-docs/stable/user_guide/indexing.html#returning-a-view-versus-a-copy\n",
      "  newdf[0][0] = 97835\n"
     ]
    }
   ],
   "source": [
    "newdf[0][0] = 97835"
   ]
  },
  {
   "cell_type": "code",
   "execution_count": 38,
   "metadata": {},
   "outputs": [
    {
     "data": {
      "text/html": [
       "<div>\n",
       "<style scoped>\n",
       "    .dataframe tbody tr th:only-of-type {\n",
       "        vertical-align: middle;\n",
       "    }\n",
       "\n",
       "    .dataframe tbody tr th {\n",
       "        vertical-align: top;\n",
       "    }\n",
       "\n",
       "    .dataframe thead th {\n",
       "        text-align: right;\n",
       "    }\n",
       "</style>\n",
       "<table border=\"1\" class=\"dataframe\">\n",
       "  <thead>\n",
       "    <tr style=\"text-align: right;\">\n",
       "      <th></th>\n",
       "      <th>0</th>\n",
       "      <th>1</th>\n",
       "      <th>2</th>\n",
       "      <th>3</th>\n",
       "      <th>4</th>\n",
       "    </tr>\n",
       "  </thead>\n",
       "  <tbody>\n",
       "    <tr>\n",
       "      <th>0</th>\n",
       "      <td>97835</td>\n",
       "      <td>0.732790</td>\n",
       "      <td>0.727270</td>\n",
       "      <td>0.632950</td>\n",
       "      <td>0.939672</td>\n",
       "    </tr>\n",
       "    <tr>\n",
       "      <th>1</th>\n",
       "      <td>0.58759</td>\n",
       "      <td>0.213604</td>\n",
       "      <td>0.012668</td>\n",
       "      <td>0.582275</td>\n",
       "      <td>0.887989</td>\n",
       "    </tr>\n",
       "    <tr>\n",
       "      <th>2</th>\n",
       "      <td>0.0391092</td>\n",
       "      <td>0.368803</td>\n",
       "      <td>0.101702</td>\n",
       "      <td>0.023641</td>\n",
       "      <td>0.255052</td>\n",
       "    </tr>\n",
       "    <tr>\n",
       "      <th>3</th>\n",
       "      <td>0.990438</td>\n",
       "      <td>0.165843</td>\n",
       "      <td>0.475520</td>\n",
       "      <td>0.429048</td>\n",
       "      <td>0.269076</td>\n",
       "    </tr>\n",
       "    <tr>\n",
       "      <th>4</th>\n",
       "      <td>0.303014</td>\n",
       "      <td>0.051501</td>\n",
       "      <td>0.122862</td>\n",
       "      <td>0.666574</td>\n",
       "      <td>0.265433</td>\n",
       "    </tr>\n",
       "    <tr>\n",
       "      <th>...</th>\n",
       "      <td>...</td>\n",
       "      <td>...</td>\n",
       "      <td>...</td>\n",
       "      <td>...</td>\n",
       "      <td>...</td>\n",
       "    </tr>\n",
       "    <tr>\n",
       "      <th>329</th>\n",
       "      <td>0.159084</td>\n",
       "      <td>0.165603</td>\n",
       "      <td>0.685071</td>\n",
       "      <td>0.851605</td>\n",
       "      <td>0.074982</td>\n",
       "    </tr>\n",
       "    <tr>\n",
       "      <th>330</th>\n",
       "      <td>0.161786</td>\n",
       "      <td>0.736154</td>\n",
       "      <td>0.997741</td>\n",
       "      <td>0.888714</td>\n",
       "      <td>0.172033</td>\n",
       "    </tr>\n",
       "    <tr>\n",
       "      <th>331</th>\n",
       "      <td>0.0690569</td>\n",
       "      <td>0.703036</td>\n",
       "      <td>0.705189</td>\n",
       "      <td>0.401074</td>\n",
       "      <td>0.846999</td>\n",
       "    </tr>\n",
       "    <tr>\n",
       "      <th>332</th>\n",
       "      <td>0.910333</td>\n",
       "      <td>0.911627</td>\n",
       "      <td>0.479260</td>\n",
       "      <td>0.154095</td>\n",
       "      <td>0.683247</td>\n",
       "    </tr>\n",
       "    <tr>\n",
       "      <th>333</th>\n",
       "      <td>0.902313</td>\n",
       "      <td>0.331486</td>\n",
       "      <td>0.508734</td>\n",
       "      <td>0.834019</td>\n",
       "      <td>0.291316</td>\n",
       "    </tr>\n",
       "  </tbody>\n",
       "</table>\n",
       "<p>334 rows × 5 columns</p>\n",
       "</div>"
      ],
      "text/plain": [
       "             0         1         2         3         4\n",
       "0        97835  0.732790  0.727270  0.632950  0.939672\n",
       "1      0.58759  0.213604  0.012668  0.582275  0.887989\n",
       "2    0.0391092  0.368803  0.101702  0.023641  0.255052\n",
       "3     0.990438  0.165843  0.475520  0.429048  0.269076\n",
       "4     0.303014  0.051501  0.122862  0.666574  0.265433\n",
       "..         ...       ...       ...       ...       ...\n",
       "329   0.159084  0.165603  0.685071  0.851605  0.074982\n",
       "330   0.161786  0.736154  0.997741  0.888714  0.172033\n",
       "331  0.0690569  0.703036  0.705189  0.401074  0.846999\n",
       "332   0.910333  0.911627  0.479260  0.154095  0.683247\n",
       "333   0.902313  0.331486  0.508734  0.834019  0.291316\n",
       "\n",
       "[334 rows x 5 columns]"
      ]
     },
     "execution_count": 38,
     "metadata": {},
     "output_type": "execute_result"
    }
   ],
   "source": [
    "newdf"
   ]
  },
  {
   "cell_type": "code",
   "execution_count": 39,
   "metadata": {},
   "outputs": [],
   "source": [
    "# Recomended way\n",
    "newdf.loc[0,0] = 654"
   ]
  },
  {
   "cell_type": "code",
   "execution_count": 40,
   "metadata": {},
   "outputs": [
    {
     "data": {
      "text/html": [
       "<div>\n",
       "<style scoped>\n",
       "    .dataframe tbody tr th:only-of-type {\n",
       "        vertical-align: middle;\n",
       "    }\n",
       "\n",
       "    .dataframe tbody tr th {\n",
       "        vertical-align: top;\n",
       "    }\n",
       "\n",
       "    .dataframe thead th {\n",
       "        text-align: right;\n",
       "    }\n",
       "</style>\n",
       "<table border=\"1\" class=\"dataframe\">\n",
       "  <thead>\n",
       "    <tr style=\"text-align: right;\">\n",
       "      <th></th>\n",
       "      <th>0</th>\n",
       "      <th>1</th>\n",
       "      <th>2</th>\n",
       "      <th>3</th>\n",
       "      <th>4</th>\n",
       "    </tr>\n",
       "  </thead>\n",
       "  <tbody>\n",
       "    <tr>\n",
       "      <th>0</th>\n",
       "      <td>654</td>\n",
       "      <td>0.732790</td>\n",
       "      <td>0.727270</td>\n",
       "      <td>0.632950</td>\n",
       "      <td>0.939672</td>\n",
       "    </tr>\n",
       "    <tr>\n",
       "      <th>1</th>\n",
       "      <td>0.58759</td>\n",
       "      <td>0.213604</td>\n",
       "      <td>0.012668</td>\n",
       "      <td>0.582275</td>\n",
       "      <td>0.887989</td>\n",
       "    </tr>\n",
       "  </tbody>\n",
       "</table>\n",
       "</div>"
      ],
      "text/plain": [
       "         0         1         2         3         4\n",
       "0      654  0.732790  0.727270  0.632950  0.939672\n",
       "1  0.58759  0.213604  0.012668  0.582275  0.887989"
      ]
     },
     "execution_count": 40,
     "metadata": {},
     "output_type": "execute_result"
    }
   ],
   "source": [
    "newdf.head(2)"
   ]
  },
  {
   "cell_type": "code",
   "execution_count": 41,
   "metadata": {
    "scrolled": true
   },
   "outputs": [
    {
     "name": "stderr",
     "output_type": "stream",
     "text": [
      "<ipython-input-41-cedcd9916dfe>:1: UserWarning: Pandas doesn't allow columns to be created via a new attribute name - see https://pandas.pydata.org/pandas-docs/stable/indexing.html#attribute-access\n",
      "  newdf.coulmns = list(\"ABCDE\")\n"
     ]
    }
   ],
   "source": [
    "newdf.coulmns = list(\"ABCDE\")"
   ]
  },
  {
   "cell_type": "code",
   "execution_count": 42,
   "metadata": {},
   "outputs": [
    {
     "data": {
      "text/html": [
       "<div>\n",
       "<style scoped>\n",
       "    .dataframe tbody tr th:only-of-type {\n",
       "        vertical-align: middle;\n",
       "    }\n",
       "\n",
       "    .dataframe tbody tr th {\n",
       "        vertical-align: top;\n",
       "    }\n",
       "\n",
       "    .dataframe thead th {\n",
       "        text-align: right;\n",
       "    }\n",
       "</style>\n",
       "<table border=\"1\" class=\"dataframe\">\n",
       "  <thead>\n",
       "    <tr style=\"text-align: right;\">\n",
       "      <th></th>\n",
       "      <th>0</th>\n",
       "      <th>1</th>\n",
       "      <th>2</th>\n",
       "      <th>3</th>\n",
       "      <th>4</th>\n",
       "    </tr>\n",
       "  </thead>\n",
       "  <tbody>\n",
       "    <tr>\n",
       "      <th>0</th>\n",
       "      <td>654</td>\n",
       "      <td>0.732790</td>\n",
       "      <td>0.727270</td>\n",
       "      <td>0.632950</td>\n",
       "      <td>0.939672</td>\n",
       "    </tr>\n",
       "    <tr>\n",
       "      <th>1</th>\n",
       "      <td>0.58759</td>\n",
       "      <td>0.213604</td>\n",
       "      <td>0.012668</td>\n",
       "      <td>0.582275</td>\n",
       "      <td>0.887989</td>\n",
       "    </tr>\n",
       "  </tbody>\n",
       "</table>\n",
       "</div>"
      ],
      "text/plain": [
       "         0         1         2         3         4\n",
       "0      654  0.732790  0.727270  0.632950  0.939672\n",
       "1  0.58759  0.213604  0.012668  0.582275  0.887989"
      ]
     },
     "execution_count": 42,
     "metadata": {},
     "output_type": "execute_result"
    }
   ],
   "source": [
    "newdf.head(2)"
   ]
  },
  {
   "cell_type": "code",
   "execution_count": 43,
   "metadata": {},
   "outputs": [
    {
     "data": {
      "text/html": [
       "<div>\n",
       "<style scoped>\n",
       "    .dataframe tbody tr th:only-of-type {\n",
       "        vertical-align: middle;\n",
       "    }\n",
       "\n",
       "    .dataframe tbody tr th {\n",
       "        vertical-align: top;\n",
       "    }\n",
       "\n",
       "    .dataframe thead th {\n",
       "        text-align: right;\n",
       "    }\n",
       "</style>\n",
       "<table border=\"1\" class=\"dataframe\">\n",
       "  <thead>\n",
       "    <tr style=\"text-align: right;\">\n",
       "      <th></th>\n",
       "      <th>3</th>\n",
       "      <th>4</th>\n",
       "    </tr>\n",
       "  </thead>\n",
       "  <tbody>\n",
       "    <tr>\n",
       "      <th>1</th>\n",
       "      <td>0.582275</td>\n",
       "      <td>0.887989</td>\n",
       "    </tr>\n",
       "    <tr>\n",
       "      <th>2</th>\n",
       "      <td>0.023641</td>\n",
       "      <td>0.255052</td>\n",
       "    </tr>\n",
       "  </tbody>\n",
       "</table>\n",
       "</div>"
      ],
      "text/plain": [
       "          3         4\n",
       "1  0.582275  0.887989\n",
       "2  0.023641  0.255052"
      ]
     },
     "execution_count": 43,
     "metadata": {},
     "output_type": "execute_result"
    }
   ],
   "source": [
    "newdf.loc[[1,2], [3,4]]"
   ]
  },
  {
   "cell_type": "code",
   "execution_count": 44,
   "metadata": {},
   "outputs": [
    {
     "data": {
      "text/html": [
       "<div>\n",
       "<style scoped>\n",
       "    .dataframe tbody tr th:only-of-type {\n",
       "        vertical-align: middle;\n",
       "    }\n",
       "\n",
       "    .dataframe tbody tr th {\n",
       "        vertical-align: top;\n",
       "    }\n",
       "\n",
       "    .dataframe thead th {\n",
       "        text-align: right;\n",
       "    }\n",
       "</style>\n",
       "<table border=\"1\" class=\"dataframe\">\n",
       "  <thead>\n",
       "    <tr style=\"text-align: right;\">\n",
       "      <th></th>\n",
       "      <th>0</th>\n",
       "      <th>1</th>\n",
       "      <th>2</th>\n",
       "      <th>3</th>\n",
       "      <th>4</th>\n",
       "    </tr>\n",
       "  </thead>\n",
       "  <tbody>\n",
       "    <tr>\n",
       "      <th>1</th>\n",
       "      <td>0.58759</td>\n",
       "      <td>0.213604</td>\n",
       "      <td>0.012668</td>\n",
       "      <td>0.582275</td>\n",
       "      <td>0.887989</td>\n",
       "    </tr>\n",
       "    <tr>\n",
       "      <th>2</th>\n",
       "      <td>0.0391092</td>\n",
       "      <td>0.368803</td>\n",
       "      <td>0.101702</td>\n",
       "      <td>0.023641</td>\n",
       "      <td>0.255052</td>\n",
       "    </tr>\n",
       "  </tbody>\n",
       "</table>\n",
       "</div>"
      ],
      "text/plain": [
       "           0         1         2         3         4\n",
       "1    0.58759  0.213604  0.012668  0.582275  0.887989\n",
       "2  0.0391092  0.368803  0.101702  0.023641  0.255052"
      ]
     },
     "execution_count": 44,
     "metadata": {},
     "output_type": "execute_result"
    }
   ],
   "source": [
    "newdf.loc[[1,2], :]"
   ]
  },
  {
   "cell_type": "code",
   "execution_count": 45,
   "metadata": {},
   "outputs": [
    {
     "data": {
      "text/html": [
       "<div>\n",
       "<style scoped>\n",
       "    .dataframe tbody tr th:only-of-type {\n",
       "        vertical-align: middle;\n",
       "    }\n",
       "\n",
       "    .dataframe tbody tr th {\n",
       "        vertical-align: top;\n",
       "    }\n",
       "\n",
       "    .dataframe thead th {\n",
       "        text-align: right;\n",
       "    }\n",
       "</style>\n",
       "<table border=\"1\" class=\"dataframe\">\n",
       "  <thead>\n",
       "    <tr style=\"text-align: right;\">\n",
       "      <th></th>\n",
       "      <th>0</th>\n",
       "      <th>1</th>\n",
       "      <th>2</th>\n",
       "      <th>3</th>\n",
       "      <th>4</th>\n",
       "    </tr>\n",
       "  </thead>\n",
       "  <tbody>\n",
       "    <tr>\n",
       "      <th>2</th>\n",
       "      <td>0.0391092</td>\n",
       "      <td>0.368803</td>\n",
       "      <td>0.101702</td>\n",
       "      <td>0.023641</td>\n",
       "      <td>0.255052</td>\n",
       "    </tr>\n",
       "    <tr>\n",
       "      <th>5</th>\n",
       "      <td>0.136335</td>\n",
       "      <td>0.475080</td>\n",
       "      <td>0.102471</td>\n",
       "      <td>0.212270</td>\n",
       "      <td>0.960380</td>\n",
       "    </tr>\n",
       "    <tr>\n",
       "      <th>7</th>\n",
       "      <td>0.121119</td>\n",
       "      <td>0.209589</td>\n",
       "      <td>0.850334</td>\n",
       "      <td>0.300847</td>\n",
       "      <td>0.006737</td>\n",
       "    </tr>\n",
       "    <tr>\n",
       "      <th>8</th>\n",
       "      <td>0.25796</td>\n",
       "      <td>0.478518</td>\n",
       "      <td>0.135725</td>\n",
       "      <td>0.871976</td>\n",
       "      <td>0.959029</td>\n",
       "    </tr>\n",
       "    <tr>\n",
       "      <th>18</th>\n",
       "      <td>0.233952</td>\n",
       "      <td>0.166216</td>\n",
       "      <td>0.976332</td>\n",
       "      <td>0.151051</td>\n",
       "      <td>0.158276</td>\n",
       "    </tr>\n",
       "    <tr>\n",
       "      <th>...</th>\n",
       "      <td>...</td>\n",
       "      <td>...</td>\n",
       "      <td>...</td>\n",
       "      <td>...</td>\n",
       "      <td>...</td>\n",
       "    </tr>\n",
       "    <tr>\n",
       "      <th>312</th>\n",
       "      <td>0.093967</td>\n",
       "      <td>0.511076</td>\n",
       "      <td>0.333917</td>\n",
       "      <td>0.952683</td>\n",
       "      <td>0.108173</td>\n",
       "    </tr>\n",
       "    <tr>\n",
       "      <th>320</th>\n",
       "      <td>0.00271836</td>\n",
       "      <td>0.505293</td>\n",
       "      <td>0.114039</td>\n",
       "      <td>0.753439</td>\n",
       "      <td>0.809598</td>\n",
       "    </tr>\n",
       "    <tr>\n",
       "      <th>329</th>\n",
       "      <td>0.159084</td>\n",
       "      <td>0.165603</td>\n",
       "      <td>0.685071</td>\n",
       "      <td>0.851605</td>\n",
       "      <td>0.074982</td>\n",
       "    </tr>\n",
       "    <tr>\n",
       "      <th>330</th>\n",
       "      <td>0.161786</td>\n",
       "      <td>0.736154</td>\n",
       "      <td>0.997741</td>\n",
       "      <td>0.888714</td>\n",
       "      <td>0.172033</td>\n",
       "    </tr>\n",
       "    <tr>\n",
       "      <th>331</th>\n",
       "      <td>0.0690569</td>\n",
       "      <td>0.703036</td>\n",
       "      <td>0.705189</td>\n",
       "      <td>0.401074</td>\n",
       "      <td>0.846999</td>\n",
       "    </tr>\n",
       "  </tbody>\n",
       "</table>\n",
       "<p>88 rows × 5 columns</p>\n",
       "</div>"
      ],
      "text/plain": [
       "              0         1         2         3         4\n",
       "2     0.0391092  0.368803  0.101702  0.023641  0.255052\n",
       "5      0.136335  0.475080  0.102471  0.212270  0.960380\n",
       "7      0.121119  0.209589  0.850334  0.300847  0.006737\n",
       "8       0.25796  0.478518  0.135725  0.871976  0.959029\n",
       "18     0.233952  0.166216  0.976332  0.151051  0.158276\n",
       "..          ...       ...       ...       ...       ...\n",
       "312    0.093967  0.511076  0.333917  0.952683  0.108173\n",
       "320  0.00271836  0.505293  0.114039  0.753439  0.809598\n",
       "329    0.159084  0.165603  0.685071  0.851605  0.074982\n",
       "330    0.161786  0.736154  0.997741  0.888714  0.172033\n",
       "331   0.0690569  0.703036  0.705189  0.401074  0.846999\n",
       "\n",
       "[88 rows x 5 columns]"
      ]
     },
     "execution_count": 45,
     "metadata": {},
     "output_type": "execute_result"
    }
   ],
   "source": [
    "newdf.loc[(newdf[0]<0.3) & (newdf[2]>0.1)] #For columns"
   ]
  },
  {
   "cell_type": "code",
   "execution_count": 46,
   "metadata": {},
   "outputs": [
    {
     "data": {
      "text/html": [
       "<div>\n",
       "<style scoped>\n",
       "    .dataframe tbody tr th:only-of-type {\n",
       "        vertical-align: middle;\n",
       "    }\n",
       "\n",
       "    .dataframe tbody tr th {\n",
       "        vertical-align: top;\n",
       "    }\n",
       "\n",
       "    .dataframe thead th {\n",
       "        text-align: right;\n",
       "    }\n",
       "</style>\n",
       "<table border=\"1\" class=\"dataframe\">\n",
       "  <thead>\n",
       "    <tr style=\"text-align: right;\">\n",
       "      <th></th>\n",
       "      <th>0</th>\n",
       "      <th>1</th>\n",
       "      <th>2</th>\n",
       "      <th>3</th>\n",
       "      <th>4</th>\n",
       "    </tr>\n",
       "  </thead>\n",
       "  <tbody>\n",
       "    <tr>\n",
       "      <th>0</th>\n",
       "      <td>654</td>\n",
       "      <td>0.732790</td>\n",
       "      <td>0.727270</td>\n",
       "      <td>0.632950</td>\n",
       "      <td>0.939672</td>\n",
       "    </tr>\n",
       "    <tr>\n",
       "      <th>1</th>\n",
       "      <td>0.58759</td>\n",
       "      <td>0.213604</td>\n",
       "      <td>0.012668</td>\n",
       "      <td>0.582275</td>\n",
       "      <td>0.887989</td>\n",
       "    </tr>\n",
       "    <tr>\n",
       "      <th>2</th>\n",
       "      <td>0.0391092</td>\n",
       "      <td>0.368803</td>\n",
       "      <td>0.101702</td>\n",
       "      <td>0.023641</td>\n",
       "      <td>0.255052</td>\n",
       "    </tr>\n",
       "    <tr>\n",
       "      <th>3</th>\n",
       "      <td>0.990438</td>\n",
       "      <td>0.165843</td>\n",
       "      <td>0.475520</td>\n",
       "      <td>0.429048</td>\n",
       "      <td>0.269076</td>\n",
       "    </tr>\n",
       "    <tr>\n",
       "      <th>4</th>\n",
       "      <td>0.303014</td>\n",
       "      <td>0.051501</td>\n",
       "      <td>0.122862</td>\n",
       "      <td>0.666574</td>\n",
       "      <td>0.265433</td>\n",
       "    </tr>\n",
       "  </tbody>\n",
       "</table>\n",
       "</div>"
      ],
      "text/plain": [
       "           0         1         2         3         4\n",
       "0        654  0.732790  0.727270  0.632950  0.939672\n",
       "1    0.58759  0.213604  0.012668  0.582275  0.887989\n",
       "2  0.0391092  0.368803  0.101702  0.023641  0.255052\n",
       "3   0.990438  0.165843  0.475520  0.429048  0.269076\n",
       "4   0.303014  0.051501  0.122862  0.666574  0.265433"
      ]
     },
     "execution_count": 46,
     "metadata": {},
     "output_type": "execute_result"
    }
   ],
   "source": [
    "newdf.head()"
   ]
  },
  {
   "cell_type": "code",
   "execution_count": 47,
   "metadata": {},
   "outputs": [
    {
     "data": {
      "text/plain": [
       "0.9396717178212309"
      ]
     },
     "execution_count": 47,
     "metadata": {},
     "output_type": "execute_result"
    }
   ],
   "source": [
    "newdf.iloc[0,4]"
   ]
  },
  {
   "cell_type": "code",
   "execution_count": 48,
   "metadata": {},
   "outputs": [
    {
     "data": {
      "text/html": [
       "<div>\n",
       "<style scoped>\n",
       "    .dataframe tbody tr th:only-of-type {\n",
       "        vertical-align: middle;\n",
       "    }\n",
       "\n",
       "    .dataframe tbody tr th {\n",
       "        vertical-align: top;\n",
       "    }\n",
       "\n",
       "    .dataframe thead th {\n",
       "        text-align: right;\n",
       "    }\n",
       "</style>\n",
       "<table border=\"1\" class=\"dataframe\">\n",
       "  <thead>\n",
       "    <tr style=\"text-align: right;\">\n",
       "      <th></th>\n",
       "      <th>1</th>\n",
       "      <th>2</th>\n",
       "    </tr>\n",
       "  </thead>\n",
       "  <tbody>\n",
       "    <tr>\n",
       "      <th>0</th>\n",
       "      <td>0.73279</td>\n",
       "      <td>0.727270</td>\n",
       "    </tr>\n",
       "    <tr>\n",
       "      <th>5</th>\n",
       "      <td>0.47508</td>\n",
       "      <td>0.102471</td>\n",
       "    </tr>\n",
       "  </tbody>\n",
       "</table>\n",
       "</div>"
      ],
      "text/plain": [
       "         1         2\n",
       "0  0.73279  0.727270\n",
       "5  0.47508  0.102471"
      ]
     },
     "execution_count": 48,
     "metadata": {},
     "output_type": "execute_result"
    }
   ],
   "source": [
    "newdf.iloc[[0,5], [1,2]]"
   ]
  },
  {
   "cell_type": "code",
   "execution_count": 50,
   "metadata": {},
   "outputs": [
    {
     "data": {
      "text/html": [
       "<div>\n",
       "<style scoped>\n",
       "    .dataframe tbody tr th:only-of-type {\n",
       "        vertical-align: middle;\n",
       "    }\n",
       "\n",
       "    .dataframe tbody tr th {\n",
       "        vertical-align: top;\n",
       "    }\n",
       "\n",
       "    .dataframe thead th {\n",
       "        text-align: right;\n",
       "    }\n",
       "</style>\n",
       "<table border=\"1\" class=\"dataframe\">\n",
       "  <thead>\n",
       "    <tr style=\"text-align: right;\">\n",
       "      <th></th>\n",
       "      <th>0</th>\n",
       "      <th>1</th>\n",
       "      <th>2</th>\n",
       "      <th>3</th>\n",
       "      <th>4</th>\n",
       "    </tr>\n",
       "  </thead>\n",
       "  <tbody>\n",
       "    <tr>\n",
       "      <th>0</th>\n",
       "      <td>654</td>\n",
       "      <td>0.732790</td>\n",
       "      <td>0.727270</td>\n",
       "      <td>0.632950</td>\n",
       "      <td>0.939672</td>\n",
       "    </tr>\n",
       "    <tr>\n",
       "      <th>1</th>\n",
       "      <td>0.58759</td>\n",
       "      <td>0.213604</td>\n",
       "      <td>0.012668</td>\n",
       "      <td>0.582275</td>\n",
       "      <td>0.887989</td>\n",
       "    </tr>\n",
       "    <tr>\n",
       "      <th>2</th>\n",
       "      <td>0.0391092</td>\n",
       "      <td>0.368803</td>\n",
       "      <td>0.101702</td>\n",
       "      <td>0.023641</td>\n",
       "      <td>0.255052</td>\n",
       "    </tr>\n",
       "  </tbody>\n",
       "</table>\n",
       "</div>"
      ],
      "text/plain": [
       "           0         1         2         3         4\n",
       "0        654  0.732790  0.727270  0.632950  0.939672\n",
       "1    0.58759  0.213604  0.012668  0.582275  0.887989\n",
       "2  0.0391092  0.368803  0.101702  0.023641  0.255052"
      ]
     },
     "execution_count": 50,
     "metadata": {},
     "output_type": "execute_result"
    }
   ],
   "source": [
    "newdf.head(3)"
   ]
  },
  {
   "cell_type": "code",
   "execution_count": 51,
   "metadata": {},
   "outputs": [
    {
     "data": {
      "text/html": [
       "<div>\n",
       "<style scoped>\n",
       "    .dataframe tbody tr th:only-of-type {\n",
       "        vertical-align: middle;\n",
       "    }\n",
       "\n",
       "    .dataframe tbody tr th {\n",
       "        vertical-align: top;\n",
       "    }\n",
       "\n",
       "    .dataframe thead th {\n",
       "        text-align: right;\n",
       "    }\n",
       "</style>\n",
       "<table border=\"1\" class=\"dataframe\">\n",
       "  <thead>\n",
       "    <tr style=\"text-align: right;\">\n",
       "      <th></th>\n",
       "      <th>0</th>\n",
       "      <th>1</th>\n",
       "      <th>2</th>\n",
       "      <th>3</th>\n",
       "      <th>4</th>\n",
       "    </tr>\n",
       "  </thead>\n",
       "  <tbody>\n",
       "    <tr>\n",
       "      <th>1</th>\n",
       "      <td>0.58759</td>\n",
       "      <td>0.213604</td>\n",
       "      <td>0.012668</td>\n",
       "      <td>0.582275</td>\n",
       "      <td>0.887989</td>\n",
       "    </tr>\n",
       "    <tr>\n",
       "      <th>2</th>\n",
       "      <td>0.0391092</td>\n",
       "      <td>0.368803</td>\n",
       "      <td>0.101702</td>\n",
       "      <td>0.023641</td>\n",
       "      <td>0.255052</td>\n",
       "    </tr>\n",
       "    <tr>\n",
       "      <th>3</th>\n",
       "      <td>0.990438</td>\n",
       "      <td>0.165843</td>\n",
       "      <td>0.475520</td>\n",
       "      <td>0.429048</td>\n",
       "      <td>0.269076</td>\n",
       "    </tr>\n",
       "    <tr>\n",
       "      <th>4</th>\n",
       "      <td>0.303014</td>\n",
       "      <td>0.051501</td>\n",
       "      <td>0.122862</td>\n",
       "      <td>0.666574</td>\n",
       "      <td>0.265433</td>\n",
       "    </tr>\n",
       "    <tr>\n",
       "      <th>5</th>\n",
       "      <td>0.136335</td>\n",
       "      <td>0.475080</td>\n",
       "      <td>0.102471</td>\n",
       "      <td>0.212270</td>\n",
       "      <td>0.960380</td>\n",
       "    </tr>\n",
       "    <tr>\n",
       "      <th>...</th>\n",
       "      <td>...</td>\n",
       "      <td>...</td>\n",
       "      <td>...</td>\n",
       "      <td>...</td>\n",
       "      <td>...</td>\n",
       "    </tr>\n",
       "    <tr>\n",
       "      <th>329</th>\n",
       "      <td>0.159084</td>\n",
       "      <td>0.165603</td>\n",
       "      <td>0.685071</td>\n",
       "      <td>0.851605</td>\n",
       "      <td>0.074982</td>\n",
       "    </tr>\n",
       "    <tr>\n",
       "      <th>330</th>\n",
       "      <td>0.161786</td>\n",
       "      <td>0.736154</td>\n",
       "      <td>0.997741</td>\n",
       "      <td>0.888714</td>\n",
       "      <td>0.172033</td>\n",
       "    </tr>\n",
       "    <tr>\n",
       "      <th>331</th>\n",
       "      <td>0.0690569</td>\n",
       "      <td>0.703036</td>\n",
       "      <td>0.705189</td>\n",
       "      <td>0.401074</td>\n",
       "      <td>0.846999</td>\n",
       "    </tr>\n",
       "    <tr>\n",
       "      <th>332</th>\n",
       "      <td>0.910333</td>\n",
       "      <td>0.911627</td>\n",
       "      <td>0.479260</td>\n",
       "      <td>0.154095</td>\n",
       "      <td>0.683247</td>\n",
       "    </tr>\n",
       "    <tr>\n",
       "      <th>333</th>\n",
       "      <td>0.902313</td>\n",
       "      <td>0.331486</td>\n",
       "      <td>0.508734</td>\n",
       "      <td>0.834019</td>\n",
       "      <td>0.291316</td>\n",
       "    </tr>\n",
       "  </tbody>\n",
       "</table>\n",
       "<p>333 rows × 5 columns</p>\n",
       "</div>"
      ],
      "text/plain": [
       "             0         1         2         3         4\n",
       "1      0.58759  0.213604  0.012668  0.582275  0.887989\n",
       "2    0.0391092  0.368803  0.101702  0.023641  0.255052\n",
       "3     0.990438  0.165843  0.475520  0.429048  0.269076\n",
       "4     0.303014  0.051501  0.122862  0.666574  0.265433\n",
       "5     0.136335  0.475080  0.102471  0.212270  0.960380\n",
       "..         ...       ...       ...       ...       ...\n",
       "329   0.159084  0.165603  0.685071  0.851605  0.074982\n",
       "330   0.161786  0.736154  0.997741  0.888714  0.172033\n",
       "331  0.0690569  0.703036  0.705189  0.401074  0.846999\n",
       "332   0.910333  0.911627  0.479260  0.154095  0.683247\n",
       "333   0.902313  0.331486  0.508734  0.834019  0.291316\n",
       "\n",
       "[333 rows x 5 columns]"
      ]
     },
     "execution_count": 51,
     "metadata": {},
     "output_type": "execute_result"
    }
   ],
   "source": [
    "newdf.drop([0]) #Dropping Row"
   ]
  },
  {
   "cell_type": "code",
   "execution_count": 54,
   "metadata": {},
   "outputs": [
    {
     "data": {
      "text/html": [
       "<div>\n",
       "<style scoped>\n",
       "    .dataframe tbody tr th:only-of-type {\n",
       "        vertical-align: middle;\n",
       "    }\n",
       "\n",
       "    .dataframe tbody tr th {\n",
       "        vertical-align: top;\n",
       "    }\n",
       "\n",
       "    .dataframe thead th {\n",
       "        text-align: right;\n",
       "    }\n",
       "</style>\n",
       "<table border=\"1\" class=\"dataframe\">\n",
       "  <thead>\n",
       "    <tr style=\"text-align: right;\">\n",
       "      <th></th>\n",
       "      <th>1</th>\n",
       "      <th>2</th>\n",
       "      <th>4</th>\n",
       "    </tr>\n",
       "  </thead>\n",
       "  <tbody>\n",
       "    <tr>\n",
       "      <th>0</th>\n",
       "      <td>0.732790</td>\n",
       "      <td>0.727270</td>\n",
       "      <td>0.939672</td>\n",
       "    </tr>\n",
       "    <tr>\n",
       "      <th>1</th>\n",
       "      <td>0.213604</td>\n",
       "      <td>0.012668</td>\n",
       "      <td>0.887989</td>\n",
       "    </tr>\n",
       "    <tr>\n",
       "      <th>2</th>\n",
       "      <td>0.368803</td>\n",
       "      <td>0.101702</td>\n",
       "      <td>0.255052</td>\n",
       "    </tr>\n",
       "    <tr>\n",
       "      <th>3</th>\n",
       "      <td>0.165843</td>\n",
       "      <td>0.475520</td>\n",
       "      <td>0.269076</td>\n",
       "    </tr>\n",
       "    <tr>\n",
       "      <th>4</th>\n",
       "      <td>0.051501</td>\n",
       "      <td>0.122862</td>\n",
       "      <td>0.265433</td>\n",
       "    </tr>\n",
       "    <tr>\n",
       "      <th>...</th>\n",
       "      <td>...</td>\n",
       "      <td>...</td>\n",
       "      <td>...</td>\n",
       "    </tr>\n",
       "    <tr>\n",
       "      <th>329</th>\n",
       "      <td>0.165603</td>\n",
       "      <td>0.685071</td>\n",
       "      <td>0.074982</td>\n",
       "    </tr>\n",
       "    <tr>\n",
       "      <th>330</th>\n",
       "      <td>0.736154</td>\n",
       "      <td>0.997741</td>\n",
       "      <td>0.172033</td>\n",
       "    </tr>\n",
       "    <tr>\n",
       "      <th>331</th>\n",
       "      <td>0.703036</td>\n",
       "      <td>0.705189</td>\n",
       "      <td>0.846999</td>\n",
       "    </tr>\n",
       "    <tr>\n",
       "      <th>332</th>\n",
       "      <td>0.911627</td>\n",
       "      <td>0.479260</td>\n",
       "      <td>0.683247</td>\n",
       "    </tr>\n",
       "    <tr>\n",
       "      <th>333</th>\n",
       "      <td>0.331486</td>\n",
       "      <td>0.508734</td>\n",
       "      <td>0.291316</td>\n",
       "    </tr>\n",
       "  </tbody>\n",
       "</table>\n",
       "<p>334 rows × 3 columns</p>\n",
       "</div>"
      ],
      "text/plain": [
       "            1         2         4\n",
       "0    0.732790  0.727270  0.939672\n",
       "1    0.213604  0.012668  0.887989\n",
       "2    0.368803  0.101702  0.255052\n",
       "3    0.165843  0.475520  0.269076\n",
       "4    0.051501  0.122862  0.265433\n",
       "..        ...       ...       ...\n",
       "329  0.165603  0.685071  0.074982\n",
       "330  0.736154  0.997741  0.172033\n",
       "331  0.703036  0.705189  0.846999\n",
       "332  0.911627  0.479260  0.683247\n",
       "333  0.331486  0.508734  0.291316\n",
       "\n",
       "[334 rows x 3 columns]"
      ]
     },
     "execution_count": 54,
     "metadata": {},
     "output_type": "execute_result"
    }
   ],
   "source": [
    "newdf.drop([0, 3], axis=1) # Dropping Colunm\n",
    "# If newdf = | or (, inplace= True]"
   ]
  },
  {
   "cell_type": "code",
   "execution_count": 55,
   "metadata": {},
   "outputs": [],
   "source": [
    "newdf.reset_index(drop = True, inplace = True)\n",
    "# Reset indexes"
   ]
  },
  {
   "cell_type": "code",
   "execution_count": 56,
   "metadata": {},
   "outputs": [
    {
     "data": {
      "text/html": [
       "<div>\n",
       "<style scoped>\n",
       "    .dataframe tbody tr th:only-of-type {\n",
       "        vertical-align: middle;\n",
       "    }\n",
       "\n",
       "    .dataframe tbody tr th {\n",
       "        vertical-align: top;\n",
       "    }\n",
       "\n",
       "    .dataframe thead th {\n",
       "        text-align: right;\n",
       "    }\n",
       "</style>\n",
       "<table border=\"1\" class=\"dataframe\">\n",
       "  <thead>\n",
       "    <tr style=\"text-align: right;\">\n",
       "      <th></th>\n",
       "      <th>0</th>\n",
       "      <th>1</th>\n",
       "      <th>2</th>\n",
       "      <th>3</th>\n",
       "      <th>4</th>\n",
       "    </tr>\n",
       "  </thead>\n",
       "  <tbody>\n",
       "    <tr>\n",
       "      <th>0</th>\n",
       "      <td>654</td>\n",
       "      <td>0.732790</td>\n",
       "      <td>0.727270</td>\n",
       "      <td>0.632950</td>\n",
       "      <td>0.939672</td>\n",
       "    </tr>\n",
       "    <tr>\n",
       "      <th>1</th>\n",
       "      <td>0.58759</td>\n",
       "      <td>0.213604</td>\n",
       "      <td>0.012668</td>\n",
       "      <td>0.582275</td>\n",
       "      <td>0.887989</td>\n",
       "    </tr>\n",
       "    <tr>\n",
       "      <th>2</th>\n",
       "      <td>0.0391092</td>\n",
       "      <td>0.368803</td>\n",
       "      <td>0.101702</td>\n",
       "      <td>0.023641</td>\n",
       "      <td>0.255052</td>\n",
       "    </tr>\n",
       "  </tbody>\n",
       "</table>\n",
       "</div>"
      ],
      "text/plain": [
       "           0         1         2         3         4\n",
       "0        654  0.732790  0.727270  0.632950  0.939672\n",
       "1    0.58759  0.213604  0.012668  0.582275  0.887989\n",
       "2  0.0391092  0.368803  0.101702  0.023641  0.255052"
      ]
     },
     "execution_count": 56,
     "metadata": {},
     "output_type": "execute_result"
    }
   ],
   "source": [
    "newdf.head(3)"
   ]
  },
  {
   "cell_type": "code",
   "execution_count": 57,
   "metadata": {},
   "outputs": [
    {
     "data": {
      "text/plain": [
       "0      False\n",
       "1      False\n",
       "2      False\n",
       "3      False\n",
       "4      False\n",
       "       ...  \n",
       "329    False\n",
       "330    False\n",
       "331    False\n",
       "332    False\n",
       "333    False\n",
       "Name: 2, Length: 334, dtype: bool"
      ]
     },
     "execution_count": 57,
     "metadata": {},
     "output_type": "execute_result"
    }
   ],
   "source": [
    "newdf[2].isnull() #It returns true wherever there is null  "
   ]
  },
  {
   "cell_type": "code",
   "execution_count": 62,
   "metadata": {},
   "outputs": [],
   "source": [
    "newdf[2] = None #It returns none or second way for this is\n",
    "newdf.loc[:, [2]] = 56"
   ]
  },
  {
   "cell_type": "code",
   "execution_count": 63,
   "metadata": {},
   "outputs": [
    {
     "data": {
      "text/html": [
       "<div>\n",
       "<style scoped>\n",
       "    .dataframe tbody tr th:only-of-type {\n",
       "        vertical-align: middle;\n",
       "    }\n",
       "\n",
       "    .dataframe tbody tr th {\n",
       "        vertical-align: top;\n",
       "    }\n",
       "\n",
       "    .dataframe thead th {\n",
       "        text-align: right;\n",
       "    }\n",
       "</style>\n",
       "<table border=\"1\" class=\"dataframe\">\n",
       "  <thead>\n",
       "    <tr style=\"text-align: right;\">\n",
       "      <th></th>\n",
       "      <th>0</th>\n",
       "      <th>1</th>\n",
       "      <th>2</th>\n",
       "      <th>3</th>\n",
       "      <th>4</th>\n",
       "    </tr>\n",
       "  </thead>\n",
       "  <tbody>\n",
       "    <tr>\n",
       "      <th>0</th>\n",
       "      <td>654</td>\n",
       "      <td>0.732790</td>\n",
       "      <td>56</td>\n",
       "      <td>0.632950</td>\n",
       "      <td>0.939672</td>\n",
       "    </tr>\n",
       "    <tr>\n",
       "      <th>1</th>\n",
       "      <td>0.58759</td>\n",
       "      <td>0.213604</td>\n",
       "      <td>56</td>\n",
       "      <td>0.582275</td>\n",
       "      <td>0.887989</td>\n",
       "    </tr>\n",
       "    <tr>\n",
       "      <th>2</th>\n",
       "      <td>0.0391092</td>\n",
       "      <td>0.368803</td>\n",
       "      <td>56</td>\n",
       "      <td>0.023641</td>\n",
       "      <td>0.255052</td>\n",
       "    </tr>\n",
       "  </tbody>\n",
       "</table>\n",
       "</div>"
      ],
      "text/plain": [
       "           0         1   2         3         4\n",
       "0        654  0.732790  56  0.632950  0.939672\n",
       "1    0.58759  0.213604  56  0.582275  0.887989\n",
       "2  0.0391092  0.368803  56  0.023641  0.255052"
      ]
     },
     "execution_count": 63,
     "metadata": {},
     "output_type": "execute_result"
    }
   ],
   "source": [
    "newdf.head(3)"
   ]
  },
  {
   "cell_type": "code",
   "execution_count": 82,
   "metadata": {},
   "outputs": [],
   "source": [
    "df = pd.DataFrame({\"name\": ['Alfred', 'Batman', 'Alfred'],\n",
    "                   \"toy\": [np.nan, np.nan, np.nan],\n",
    "                   \"born\": [pd.NaT, pd.Timestamp(\"1940-04-25\"),\n",
    "                            pd.NaT]})"
   ]
  },
  {
   "cell_type": "code",
   "execution_count": 83,
   "metadata": {},
   "outputs": [
    {
     "data": {
      "text/html": [
       "<div>\n",
       "<style scoped>\n",
       "    .dataframe tbody tr th:only-of-type {\n",
       "        vertical-align: middle;\n",
       "    }\n",
       "\n",
       "    .dataframe tbody tr th {\n",
       "        vertical-align: top;\n",
       "    }\n",
       "\n",
       "    .dataframe thead th {\n",
       "        text-align: right;\n",
       "    }\n",
       "</style>\n",
       "<table border=\"1\" class=\"dataframe\">\n",
       "  <thead>\n",
       "    <tr style=\"text-align: right;\">\n",
       "      <th></th>\n",
       "      <th>name</th>\n",
       "      <th>toy</th>\n",
       "      <th>born</th>\n",
       "    </tr>\n",
       "  </thead>\n",
       "  <tbody>\n",
       "    <tr>\n",
       "      <th>0</th>\n",
       "      <td>Alfred</td>\n",
       "      <td>NaN</td>\n",
       "      <td>NaT</td>\n",
       "    </tr>\n",
       "    <tr>\n",
       "      <th>1</th>\n",
       "      <td>Batman</td>\n",
       "      <td>NaN</td>\n",
       "      <td>1940-04-25</td>\n",
       "    </tr>\n",
       "    <tr>\n",
       "      <th>2</th>\n",
       "      <td>Alfred</td>\n",
       "      <td>NaN</td>\n",
       "      <td>NaT</td>\n",
       "    </tr>\n",
       "  </tbody>\n",
       "</table>\n",
       "</div>"
      ],
      "text/plain": [
       "     name  toy       born\n",
       "0  Alfred  NaN        NaT\n",
       "1  Batman  NaN 1940-04-25\n",
       "2  Alfred  NaN        NaT"
      ]
     },
     "execution_count": 83,
     "metadata": {},
     "output_type": "execute_result"
    }
   ],
   "source": [
    "df.head() # When batmobile and bullwhip is changes to np.nan"
   ]
  },
  {
   "cell_type": "code",
   "execution_count": 84,
   "metadata": {},
   "outputs": [
    {
     "data": {
      "text/html": [
       "<div>\n",
       "<style scoped>\n",
       "    .dataframe tbody tr th:only-of-type {\n",
       "        vertical-align: middle;\n",
       "    }\n",
       "\n",
       "    .dataframe tbody tr th {\n",
       "        vertical-align: top;\n",
       "    }\n",
       "\n",
       "    .dataframe thead th {\n",
       "        text-align: right;\n",
       "    }\n",
       "</style>\n",
       "<table border=\"1\" class=\"dataframe\">\n",
       "  <thead>\n",
       "    <tr style=\"text-align: right;\">\n",
       "      <th></th>\n",
       "      <th>name</th>\n",
       "      <th>toy</th>\n",
       "      <th>born</th>\n",
       "    </tr>\n",
       "  </thead>\n",
       "  <tbody>\n",
       "  </tbody>\n",
       "</table>\n",
       "</div>"
      ],
      "text/plain": [
       "Empty DataFrame\n",
       "Columns: [name, toy, born]\n",
       "Index: []"
      ]
     },
     "execution_count": 84,
     "metadata": {},
     "output_type": "execute_result"
    }
   ],
   "source": [
    "df.dropna()"
   ]
  },
  {
   "cell_type": "code",
   "execution_count": 85,
   "metadata": {},
   "outputs": [
    {
     "data": {
      "text/html": [
       "<div>\n",
       "<style scoped>\n",
       "    .dataframe tbody tr th:only-of-type {\n",
       "        vertical-align: middle;\n",
       "    }\n",
       "\n",
       "    .dataframe tbody tr th {\n",
       "        vertical-align: top;\n",
       "    }\n",
       "\n",
       "    .dataframe thead th {\n",
       "        text-align: right;\n",
       "    }\n",
       "</style>\n",
       "<table border=\"1\" class=\"dataframe\">\n",
       "  <thead>\n",
       "    <tr style=\"text-align: right;\">\n",
       "      <th></th>\n",
       "      <th>name</th>\n",
       "      <th>born</th>\n",
       "    </tr>\n",
       "  </thead>\n",
       "  <tbody>\n",
       "    <tr>\n",
       "      <th>0</th>\n",
       "      <td>Alfred</td>\n",
       "      <td>NaT</td>\n",
       "    </tr>\n",
       "    <tr>\n",
       "      <th>1</th>\n",
       "      <td>Batman</td>\n",
       "      <td>1940-04-25</td>\n",
       "    </tr>\n",
       "    <tr>\n",
       "      <th>2</th>\n",
       "      <td>Alfred</td>\n",
       "      <td>NaT</td>\n",
       "    </tr>\n",
       "  </tbody>\n",
       "</table>\n",
       "</div>"
      ],
      "text/plain": [
       "     name       born\n",
       "0  Alfred        NaT\n",
       "1  Batman 1940-04-25\n",
       "2  Alfred        NaT"
      ]
     },
     "execution_count": 85,
     "metadata": {},
     "output_type": "execute_result"
    }
   ],
   "source": [
    "df.dropna(how = 'all', axis =1) # This will remove NaN "
   ]
  },
  {
   "cell_type": "code",
   "execution_count": 86,
   "metadata": {},
   "outputs": [],
   "source": [
    "df = pd.DataFrame({\"name\": ['Alfred', 'Batman', 'Alfred'],\n",
    "                   \"toy\": [np.nan, 'Batmobile', 'Bullwhip'],\n",
    "                   \"born\": [pd.NaT, pd.Timestamp(\"1940-04-25\"),\n",
    "                            pd.NaT]})"
   ]
  },
  {
   "cell_type": "code",
   "execution_count": 88,
   "metadata": {},
   "outputs": [
    {
     "data": {
      "text/html": [
       "<div>\n",
       "<style scoped>\n",
       "    .dataframe tbody tr th:only-of-type {\n",
       "        vertical-align: middle;\n",
       "    }\n",
       "\n",
       "    .dataframe tbody tr th {\n",
       "        vertical-align: top;\n",
       "    }\n",
       "\n",
       "    .dataframe thead th {\n",
       "        text-align: right;\n",
       "    }\n",
       "</style>\n",
       "<table border=\"1\" class=\"dataframe\">\n",
       "  <thead>\n",
       "    <tr style=\"text-align: right;\">\n",
       "      <th></th>\n",
       "      <th>name</th>\n",
       "      <th>toy</th>\n",
       "      <th>born</th>\n",
       "    </tr>\n",
       "  </thead>\n",
       "  <tbody>\n",
       "    <tr>\n",
       "      <th>1</th>\n",
       "      <td>Batman</td>\n",
       "      <td>Batmobile</td>\n",
       "      <td>1940-04-25</td>\n",
       "    </tr>\n",
       "  </tbody>\n",
       "</table>\n",
       "</div>"
      ],
      "text/plain": [
       "     name        toy       born\n",
       "1  Batman  Batmobile 1940-04-25"
      ]
     },
     "execution_count": 88,
     "metadata": {},
     "output_type": "execute_result"
    }
   ],
   "source": [
    "df.drop_duplicates(subset = ['name'], keep = False)"
   ]
  },
  {
   "cell_type": "code",
   "execution_count": 89,
   "metadata": {},
   "outputs": [
    {
     "name": "stdout",
     "output_type": "stream",
     "text": [
      "<class 'pandas.core.frame.DataFrame'>\n",
      "RangeIndex: 3 entries, 0 to 2\n",
      "Data columns (total 3 columns):\n",
      " #   Column  Non-Null Count  Dtype         \n",
      "---  ------  --------------  -----         \n",
      " 0   name    3 non-null      object        \n",
      " 1   toy     2 non-null      object        \n",
      " 2   born    1 non-null      datetime64[ns]\n",
      "dtypes: datetime64[ns](1), object(2)\n",
      "memory usage: 112.0+ bytes\n"
     ]
    },
    {
     "data": {
      "text/plain": [
       "((3, 3), None)"
      ]
     },
     "execution_count": 89,
     "metadata": {},
     "output_type": "execute_result"
    }
   ],
   "source": [
    "df.shape , df.info()"
   ]
  },
  {
   "cell_type": "code",
   "execution_count": 90,
   "metadata": {},
   "outputs": [
    {
     "data": {
      "text/plain": [
       "Alfred    2\n",
       "Batman    1\n",
       "Name: name, dtype: int64"
      ]
     },
     "execution_count": 90,
     "metadata": {},
     "output_type": "execute_result"
    }
   ],
   "source": [
    " df['name'].value_counts(dropna = False)"
   ]
  },
  {
   "cell_type": "code",
   "execution_count": 91,
   "metadata": {},
   "outputs": [],
   "source": [
    "data = pd.read_excel('data.xlsx', sheet_name ='Sheet1' )"
   ]
  },
  {
   "cell_type": "code",
   "execution_count": 92,
   "metadata": {},
   "outputs": [
    {
     "data": {
      "text/html": [
       "<div>\n",
       "<style scoped>\n",
       "    .dataframe tbody tr th:only-of-type {\n",
       "        vertical-align: middle;\n",
       "    }\n",
       "\n",
       "    .dataframe tbody tr th {\n",
       "        vertical-align: top;\n",
       "    }\n",
       "\n",
       "    .dataframe thead th {\n",
       "        text-align: right;\n",
       "    }\n",
       "</style>\n",
       "<table border=\"1\" class=\"dataframe\">\n",
       "  <thead>\n",
       "    <tr style=\"text-align: right;\">\n",
       "      <th></th>\n",
       "      <th>Train No.</th>\n",
       "      <th>Speed</th>\n",
       "      <th>City</th>\n",
       "    </tr>\n",
       "  </thead>\n",
       "  <tbody>\n",
       "    <tr>\n",
       "      <th>0</th>\n",
       "      <td>12545</td>\n",
       "      <td>52</td>\n",
       "      <td>Kolkata</td>\n",
       "    </tr>\n",
       "    <tr>\n",
       "      <th>1</th>\n",
       "      <td>15245</td>\n",
       "      <td>126</td>\n",
       "      <td>Rampur</td>\n",
       "    </tr>\n",
       "    <tr>\n",
       "      <th>2</th>\n",
       "      <td>35954</td>\n",
       "      <td>21</td>\n",
       "      <td>Delhi</td>\n",
       "    </tr>\n",
       "    <tr>\n",
       "      <th>3</th>\n",
       "      <td>45151</td>\n",
       "      <td>111</td>\n",
       "      <td>Bangalore</td>\n",
       "    </tr>\n",
       "  </tbody>\n",
       "</table>\n",
       "</div>"
      ],
      "text/plain": [
       "   Train No.  Speed        City\n",
       "0      12545      52    Kolkata\n",
       "1      15245     126     Rampur\n",
       "2      35954      21      Delhi\n",
       "3      45151     111  Bangalore"
      ]
     },
     "execution_count": 92,
     "metadata": {},
     "output_type": "execute_result"
    }
   ],
   "source": [
    "data"
   ]
  },
  {
   "cell_type": "code",
   "execution_count": 94,
   "metadata": {},
   "outputs": [],
   "source": [
    "data.iloc[0,0] = 34"
   ]
  },
  {
   "cell_type": "code",
   "execution_count": 95,
   "metadata": {},
   "outputs": [
    {
     "data": {
      "text/html": [
       "<div>\n",
       "<style scoped>\n",
       "    .dataframe tbody tr th:only-of-type {\n",
       "        vertical-align: middle;\n",
       "    }\n",
       "\n",
       "    .dataframe tbody tr th {\n",
       "        vertical-align: top;\n",
       "    }\n",
       "\n",
       "    .dataframe thead th {\n",
       "        text-align: right;\n",
       "    }\n",
       "</style>\n",
       "<table border=\"1\" class=\"dataframe\">\n",
       "  <thead>\n",
       "    <tr style=\"text-align: right;\">\n",
       "      <th></th>\n",
       "      <th>Train No.</th>\n",
       "      <th>Speed</th>\n",
       "      <th>City</th>\n",
       "    </tr>\n",
       "  </thead>\n",
       "  <tbody>\n",
       "    <tr>\n",
       "      <th>0</th>\n",
       "      <td>34</td>\n",
       "      <td>52</td>\n",
       "      <td>Kolkata</td>\n",
       "    </tr>\n",
       "    <tr>\n",
       "      <th>1</th>\n",
       "      <td>15245</td>\n",
       "      <td>126</td>\n",
       "      <td>Rampur</td>\n",
       "    </tr>\n",
       "    <tr>\n",
       "      <th>2</th>\n",
       "      <td>35954</td>\n",
       "      <td>21</td>\n",
       "      <td>Delhi</td>\n",
       "    </tr>\n",
       "    <tr>\n",
       "      <th>3</th>\n",
       "      <td>45151</td>\n",
       "      <td>111</td>\n",
       "      <td>Bangalore</td>\n",
       "    </tr>\n",
       "  </tbody>\n",
       "</table>\n",
       "</div>"
      ],
      "text/plain": [
       "   Train No.  Speed        City\n",
       "0         34      52    Kolkata\n",
       "1      15245     126     Rampur\n",
       "2      35954      21      Delhi\n",
       "3      45151     111  Bangalore"
      ]
     },
     "execution_count": 95,
     "metadata": {},
     "output_type": "execute_result"
    }
   ],
   "source": [
    "data"
   ]
  },
  {
   "cell_type": "code",
   "execution_count": 97,
   "metadata": {},
   "outputs": [],
   "source": [
    "data.to_excel('data.xlsx', sheet_name ='Sheet1')"
   ]
  },
  {
   "cell_type": "code",
   "execution_count": 98,
   "metadata": {},
   "outputs": [
    {
     "data": {
      "text/html": [
       "<div>\n",
       "<style scoped>\n",
       "    .dataframe tbody tr th:only-of-type {\n",
       "        vertical-align: middle;\n",
       "    }\n",
       "\n",
       "    .dataframe tbody tr th {\n",
       "        vertical-align: top;\n",
       "    }\n",
       "\n",
       "    .dataframe thead th {\n",
       "        text-align: right;\n",
       "    }\n",
       "</style>\n",
       "<table border=\"1\" class=\"dataframe\">\n",
       "  <thead>\n",
       "    <tr style=\"text-align: right;\">\n",
       "      <th></th>\n",
       "      <th>Train No.</th>\n",
       "      <th>Speed</th>\n",
       "      <th>City</th>\n",
       "    </tr>\n",
       "  </thead>\n",
       "  <tbody>\n",
       "    <tr>\n",
       "      <th>0</th>\n",
       "      <td>34</td>\n",
       "      <td>52</td>\n",
       "      <td>Kolkata</td>\n",
       "    </tr>\n",
       "    <tr>\n",
       "      <th>1</th>\n",
       "      <td>15245</td>\n",
       "      <td>126</td>\n",
       "      <td>Rampur</td>\n",
       "    </tr>\n",
       "    <tr>\n",
       "      <th>2</th>\n",
       "      <td>35954</td>\n",
       "      <td>21</td>\n",
       "      <td>Delhi</td>\n",
       "    </tr>\n",
       "    <tr>\n",
       "      <th>3</th>\n",
       "      <td>45151</td>\n",
       "      <td>111</td>\n",
       "      <td>Bangalore</td>\n",
       "    </tr>\n",
       "  </tbody>\n",
       "</table>\n",
       "</div>"
      ],
      "text/plain": [
       "   Train No.  Speed        City\n",
       "0         34      52    Kolkata\n",
       "1      15245     126     Rampur\n",
       "2      35954      21      Delhi\n",
       "3      45151     111  Bangalore"
      ]
     },
     "execution_count": 98,
     "metadata": {},
     "output_type": "execute_result"
    }
   ],
   "source": [
    "data"
   ]
  },
  {
   "cell_type": "code",
   "execution_count": 100,
   "metadata": {},
   "outputs": [
    {
     "data": {
      "text/plain": [
       "'df.describe()\\ndf.mean()\\ndf.corr()\\ndf.count()\\ndf.max()\\ndf.min()\\ndf.meadian()\\ndf.std()'"
      ]
     },
     "execution_count": 100,
     "metadata": {},
     "output_type": "execute_result"
    }
   ],
   "source": [
    "# Create a dataframe which contains only integers with 3 rows an 2 columns\n",
    "# run following dataframe methods on them:\n",
    "'''df.describe()\n",
    "df.mean()\n",
    "df.corr()\n",
    "df.count()\n",
    "df.max()\n",
    "df.min()\n",
    "df.meadian()\n",
    "df.std()'''"
   ]
  },
  {
   "cell_type": "code",
   "execution_count": null,
   "metadata": {},
   "outputs": [],
   "source": []
  }
 ],
 "metadata": {
  "kernelspec": {
   "display_name": "Python 3",
   "language": "python",
   "name": "python3"
  },
  "language_info": {
   "codemirror_mode": {
    "name": "ipython",
    "version": 3
   },
   "file_extension": ".py",
   "mimetype": "text/x-python",
   "name": "python",
   "nbconvert_exporter": "python",
   "pygments_lexer": "ipython3",
   "version": "3.8.0"
  }
 },
 "nbformat": 4,
 "nbformat_minor": 4
}
